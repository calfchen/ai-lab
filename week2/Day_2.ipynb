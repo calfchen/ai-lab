{
 "cells": [
  {
   "cell_type": "markdown",
   "metadata": {},
   "source": [
    "# 基于图的模型\n",
    "\n",
    "前面已经学习完二分图，今天需要思考一下怎样在二分图上进行推荐。\n",
    "\n",
    "参考资料：\n",
    "\n",
    "- [1] [Pixie: A System for Recommending 3+ Billion Items to 200+ Million Users in Real-Time](https://arxiv.org/pdf/1711.07601.pdf)\n",
    "- [2] 推荐系统实战.项亮\n",
    "\n",
    "例如，将用户集合表示为U，将物品集合表示为V。则为用户u1推荐与u1没有直接边相连物品 vi。则需要衡量 vi 与 u1 之间的相关性。将相关性最大的 TOP K 物品推荐给用户 u1。\n",
    "\n",
    "下面需要思考的问题就是，如何衡量用户 u1 与物品 vi 之间的相关性。查阅资料可以，主要取决于3个因素。\n",
    "\n",
    "- 两个顶点之间的路径数（两个顶点之间的路径条数越多，越相关）\n",
    "- 两个顶点之间路径的长度（连接两个顶点之间的路径越短，越相关）\n",
    "- 两个顶点之间的路径经过的顶点（两个顶点之间经过的顶点其度越小，越相关）\n",
    "\n",
    "定义好相关性之后（本质上相当与李航《统计学习方法》里的策略），其模型就是基于图的模型。则最后一个关键要素为：算法，即怎样有效的计算顶点之间的相关性。\n",
    "\n",
    "这里使用基于随机游走的 PersonalRank 算法。\n",
    "\n",
    "- 例如，假设给用户 u 推荐物品，则从 u 对应的节点 Vu 出发随机游走，当游走到任一节点时，按照概率 alpha 决定是两种选择：①继续游走，②停止这次游走并从 Vu 节点开始从新游走。\n",
    "- 如果选择继续游走，则从当前节点指向的节点中按照均匀分布随机选择一个节点作为游走下次经过的节点。\n",
    "- 这样，经过多次之后，每个物品被访问的概率会收敛到一个数。最终推荐给物品的权重大的。\n",
    "\n",
    "![](./picture/1.png)\n",
    "\n",
    "这里就有一个问题，只考虑用户是否喜欢某个物品，却无法考虑对某个物品的喜欢程度。"
   ]
  },
  {
   "cell_type": "markdown",
   "metadata": {},
   "source": [
    "## 随机游走算法\n",
    "\n",
    "- 使用 week1 的 ml-100k 数据\n",
    "- 昨天使用了 snap 库的基本用法，感觉其实并不太方便。决定使用一下 networkx"
   ]
  },
  {
   "cell_type": "code",
   "execution_count": 1,
   "metadata": {},
   "outputs": [],
   "source": [
    "# 导入常用库\n",
    "import numpy as np\n",
    "import pandas as pd\n",
    "import matplotlib.pylab as plt\n",
    "% matplotlib inline\n",
    "\n",
    "import networkx as nx\n",
    "from networkx.algorithms import bipartite"
   ]
  },
  {
   "cell_type": "markdown",
   "metadata": {},
   "source": [
    "### 1 使用一个简单的例子测试一下"
   ]
  },
  {
   "cell_type": "code",
   "execution_count": 2,
   "metadata": {},
   "outputs": [
    {
     "data": {
      "image/png": "[encoded data removed]",
      "text/plain": [
       "<Figure size 432x288 with 1 Axes>"
      ]
     },
     "metadata": {},
     "output_type": "display_data"
    }
   ],
   "source": [
    "# 看看绘图情况\n",
    "RB = nx.Graph()\n",
    "RB.add_nodes_from([1, 2, 3, 4], bipartite=0)\n",
    "RB.add_nodes_from(['a', 'b', 'c'], bipartite=1)\n",
    "RB.add_edges_from([(1, 'a'), (1, 'b'), (2, 'b'), (2, 'c'), (3, 'c'), (4, 'a')])\n",
    "\n",
    "X, Y = bipartite.sets(RB)\n",
    "pos = dict()\n",
    "pos.update( (n, (1, i)) for i, n in enumerate(X) ) # put nodes from X at x=1\n",
    "pos.update( (n, (2, i)) for i, n in enumerate(Y) ) # put nodes from Y at x=2\n",
    "nx.draw(RB, with_labels=True,pos=pos)\n",
    "plt.show()"
   ]
  },
  {
   "cell_type": "markdown",
   "metadata": {},
   "source": [
    "根据图的形式，进行随机游走算法计算"
   ]
  },
  {
   "cell_type": "code",
   "execution_count": 3,
   "metadata": {},
   "outputs": [
    {
     "data": {
      "text/plain": [
       "{1: 0, 2: 0, 3: 0, 4: 0, 'a': 0, 'b': 0, 'c': 0}"
      ]
     },
     "execution_count": 3,
     "metadata": {},
     "output_type": "execute_result"
    }
   ],
   "source": [
    "G = {1:{'a':1, 'b':1}, 2:{'b':1, 'c':1},\n",
    "     3:{'c':1}, 4:{'a':1},\n",
    "     'a':{1:1, 4:1}, 'b':{1:1, 2:1},\n",
    "     'c':{2:1, 3:1}}\n",
    "\n",
    "tmp = {k : 0 for k in G.keys()}\n",
    "tmp"
   ]
  },
  {
   "cell_type": "markdown",
   "metadata": {},
   "source": [
    "下面是参考《推荐系统实战》里面的方法"
   ]
  },
  {
   "cell_type": "code",
   "execution_count": 4,
   "metadata": {},
   "outputs": [],
   "source": [
    "def PersonalRank(G, alpha, root):\n",
    "    rank = dict()\n",
    "    rank = {x:0 for x in G.keys()}\n",
    "    rank[root] = 1\n",
    "    for k in range(20):\n",
    "        tmp = {x:0 for x in G.keys()}\n",
    "        for i, ri in G.items():\n",
    "            for j, wij in ri.items():\n",
    "                if j not in tmp:\n",
    "                    tmp[j] = 0\n",
    "                tmp[j] += alpha * rank[i] / (1.0 * len(ri))\n",
    "                if j == root:\n",
    "                    tmp[j] += 1 - alpha\n",
    "        rank = tmp\n",
    "    return rank"
   ]
  },
  {
   "cell_type": "code",
   "execution_count": 5,
   "metadata": {},
   "outputs": [
    {
     "data": {
      "text/plain": [
       "{1: 1.012498801976991,\n",
       " 2: 0.11386873080064037,\n",
       " 3: 0.012496627824959085,\n",
       " 4: 0.11112669900130956,\n",
       " 'a': 0.37041803884204805,\n",
       " 'b': 0.33790294751292244,\n",
       " 'c': 0.04165159245672897}"
      ]
     },
     "execution_count": 5,
     "metadata": {},
     "output_type": "execute_result"
    }
   ],
   "source": [
    "rank = PersonalRank(G, 0.6, 1)\n",
    "rank"
   ]
  },
  {
   "cell_type": "code",
   "execution_count": 6,
   "metadata": {},
   "outputs": [],
   "source": [
    "def MyPersonalRank(G, alpha, root):\n",
    "    rank = {x:0 for x in G.nodes}\n",
    "    rank[root] = 1\n",
    "    for k in range(20):\n",
    "        tmp = {x:0 for x in G.nodes}\n",
    "        for i in G.nodes:\n",
    "            for j in G.neighbors(i):\n",
    "                if j not in tmp:\n",
    "                    tmp[j] = 0\n",
    "                tmp[j] += alpha * rank[i] / len(list(G.neighbors(i)))\n",
    "                if j == root:\n",
    "                    tmp[j] += 1 - alpha\n",
    "        rank = tmp\n",
    "    return rank"
   ]
  },
  {
   "cell_type": "code",
   "execution_count": 7,
   "metadata": {},
   "outputs": [
    {
     "data": {
      "text/plain": [
       "{1: 1.012498801976991,\n",
       " 2: 0.11386873080064037,\n",
       " 3: 0.012496627824959085,\n",
       " 4: 0.11112669900130956,\n",
       " 'a': 0.37041803884204805,\n",
       " 'b': 0.33790294751292244,\n",
       " 'c': 0.04165159245672897}"
      ]
     },
     "execution_count": 7,
     "metadata": {},
     "output_type": "execute_result"
    }
   ],
   "source": [
    "rank = MyPersonalRank(RB, 0.6, 1)\n",
    "rank"
   ]
  },
  {
   "cell_type": "markdown",
   "metadata": {},
   "source": [
    "从上面的结果可以看出，两种计算的结果一致。对于 1 而言，由于只有 'c' 没有与其连接，故只能推荐 'c'。如果有多个物品，则推荐其分数最高的 TOP K个物品。"
   ]
  },
  {
   "cell_type": "markdown",
   "metadata": {},
   "source": [
    "### 2 使用 ml-100k 数据进行实战"
   ]
  },
  {
   "cell_type": "markdown",
   "metadata": {},
   "source": [
    "ml-100k 的数据在 week1 已经详细介绍过了，这里不再重复介绍。"
   ]
  },
  {
   "cell_type": "markdown",
   "metadata": {},
   "source": [
    "#### 2.1 将 user 以及 item 节点，以及边信息保存到图中。"
   ]
  },
  {
   "cell_type": "code",
   "execution_count": 8,
   "metadata": {},
   "outputs": [],
   "source": [
    "# 读入数据\n",
    "path = './ml-100k/'\n",
    "names = ['user_id', 'item_id', 'rating', 'timestamp']\n",
    "ratings = pd.read_csv(path+'u.data', sep='\\t', names=names)"
   ]
  },
  {
   "cell_type": "code",
   "execution_count": 9,
   "metadata": {},
   "outputs": [],
   "source": [
    "ratings['u_user_id'] = ratings['user_id'].map(lambda x: 'u'+str(x))\n",
    "ratings['i_item_id'] = ratings['item_id'].map(lambda x: 'i'+str(x))\n",
    "ratings['edges'] = ratings.apply(lambda x: (x['u_user_id'], x['i_item_id']), axis = 1)"
   ]
  },
  {
   "cell_type": "code",
   "execution_count": 10,
   "metadata": {},
   "outputs": [
    {
     "data": {
      "text/html": [
       "<div>\n",
       "<style scoped>\n",
       "    .dataframe tbody tr th:only-of-type {\n",
       "        vertical-align: middle;\n",
       "    }\n",
       "\n",
       "    .dataframe tbody tr th {\n",
       "        vertical-align: top;\n",
       "    }\n",
       "\n",
       "    .dataframe thead th {\n",
       "        text-align: right;\n",
       "    }\n",
       "</style>\n",
       "<table border=\"1\" class=\"dataframe\">\n",
       "  <thead>\n",
       "    <tr style=\"text-align: right;\">\n",
       "      <th></th>\n",
       "      <th>user_id</th>\n",
       "      <th>item_id</th>\n",
       "      <th>rating</th>\n",
       "      <th>timestamp</th>\n",
       "      <th>u_user_id</th>\n",
       "      <th>i_item_id</th>\n",
       "      <th>edges</th>\n",
       "    </tr>\n",
       "  </thead>\n",
       "  <tbody>\n",
       "    <tr>\n",
       "      <th>0</th>\n",
       "      <td>196</td>\n",
       "      <td>242</td>\n",
       "      <td>3</td>\n",
       "      <td>881250949</td>\n",
       "      <td>u196</td>\n",
       "      <td>i242</td>\n",
       "      <td>(u196, i242)</td>\n",
       "    </tr>\n",
       "    <tr>\n",
       "      <th>1</th>\n",
       "      <td>186</td>\n",
       "      <td>302</td>\n",
       "      <td>3</td>\n",
       "      <td>891717742</td>\n",
       "      <td>u186</td>\n",
       "      <td>i302</td>\n",
       "      <td>(u186, i302)</td>\n",
       "    </tr>\n",
       "    <tr>\n",
       "      <th>2</th>\n",
       "      <td>22</td>\n",
       "      <td>377</td>\n",
       "      <td>1</td>\n",
       "      <td>878887116</td>\n",
       "      <td>u22</td>\n",
       "      <td>i377</td>\n",
       "      <td>(u22, i377)</td>\n",
       "    </tr>\n",
       "    <tr>\n",
       "      <th>3</th>\n",
       "      <td>244</td>\n",
       "      <td>51</td>\n",
       "      <td>2</td>\n",
       "      <td>880606923</td>\n",
       "      <td>u244</td>\n",
       "      <td>i51</td>\n",
       "      <td>(u244, i51)</td>\n",
       "    </tr>\n",
       "    <tr>\n",
       "      <th>4</th>\n",
       "      <td>166</td>\n",
       "      <td>346</td>\n",
       "      <td>1</td>\n",
       "      <td>886397596</td>\n",
       "      <td>u166</td>\n",
       "      <td>i346</td>\n",
       "      <td>(u166, i346)</td>\n",
       "    </tr>\n",
       "  </tbody>\n",
       "</table>\n",
       "</div>"
      ],
      "text/plain": [
       "   user_id  item_id  rating  timestamp u_user_id i_item_id         edges\n",
       "0      196      242       3  881250949      u196      i242  (u196, i242)\n",
       "1      186      302       3  891717742      u186      i302  (u186, i302)\n",
       "2       22      377       1  878887116       u22      i377   (u22, i377)\n",
       "3      244       51       2  880606923      u244       i51   (u244, i51)\n",
       "4      166      346       1  886397596      u166      i346  (u166, i346)"
      ]
     },
     "execution_count": 10,
     "metadata": {},
     "output_type": "execute_result"
    }
   ],
   "source": [
    "ratings.head()"
   ]
  },
  {
   "cell_type": "code",
   "execution_count": 11,
   "metadata": {},
   "outputs": [
    {
     "name": "stdout",
     "output_type": "stream",
     "text": [
      "<class 'pandas.core.frame.DataFrame'>\n",
      "RangeIndex: 100000 entries, 0 to 99999\n",
      "Data columns (total 7 columns):\n",
      "user_id      100000 non-null int64\n",
      "item_id      100000 non-null int64\n",
      "rating       100000 non-null int64\n",
      "timestamp    100000 non-null int64\n",
      "u_user_id    100000 non-null object\n",
      "i_item_id    100000 non-null object\n",
      "edges        100000 non-null object\n",
      "dtypes: int64(4), object(3)\n",
      "memory usage: 5.3+ MB\n"
     ]
    }
   ],
   "source": [
    "ratings.info()"
   ]
  },
  {
   "cell_type": "code",
   "execution_count": 12,
   "metadata": {},
   "outputs": [
    {
     "name": "stdout",
     "output_type": "stream",
     "text": [
      "user_ids : 943\n",
      "item_ids : 1682\n"
     ]
    }
   ],
   "source": [
    "# 获得 user 节点，以及 item 节点\n",
    "user_ids = ratings.u_user_id.unique().tolist()\n",
    "item_ids = ratings.i_item_id.unique().tolist()\n",
    "edges = ratings.edges.unique().tolist()\n",
    "print 'user_ids : {}'.format(len(user_ids))\n",
    "print 'item_ids : {}'.format(len(item_ids))"
   ]
  },
  {
   "cell_type": "code",
   "execution_count": 13,
   "metadata": {},
   "outputs": [
    {
     "data": {
      "text/plain": [
       "True"
      ]
     },
     "execution_count": 13,
     "metadata": {},
     "output_type": "execute_result"
    }
   ],
   "source": [
    "B = nx.Graph()\n",
    "B.add_nodes_from(user_ids, bipartite=0)\n",
    "B.add_nodes_from(item_ids, bipartite=1)\n",
    "B.add_edges_from(edges)\n",
    "nx.is_connected(B)"
   ]
  },
  {
   "cell_type": "code",
   "execution_count": 14,
   "metadata": {},
   "outputs": [
    {
     "data": {
      "image/png": "[encoded data removed]",
      "text/plain": [
       "<Figure size 432x288 with 1 Axes>"
      ]
     },
     "metadata": {},
     "output_type": "display_data"
    }
   ],
   "source": [
    "nx.draw(B)"
   ]
  },
  {
   "cell_type": "markdown",
   "metadata": {},
   "source": [
    "上面绘制的图就乱了，参考 [Bipartite graph in NetworkX](https://stackoverflow.com/questions/27084004/bipartite-graph-in-networkx)完成绘图如下。"
   ]
  },
  {
   "cell_type": "code",
   "execution_count": 15,
   "metadata": {},
   "outputs": [
    {
     "data": {
      "image/png": "[encoded data removed]",
      "text/plain": [
       "<Figure size 432x288 with 1 Axes>"
      ]
     },
     "metadata": {},
     "output_type": "display_data"
    }
   ],
   "source": [
    "bottom_nodes, top_nodes = bipartite.sets(B)\n",
    "pos = dict()\n",
    "pos.update( (n, (1, i)) for i, n in enumerate(bottom_nodes) ) # put nodes from bottom_nodes at x=1\n",
    "pos.update( (n, (2, i)) for i, n in enumerate(top_nodes) ) # put nodes from top_nodes at x=2\n",
    "nx.draw(B, pos=pos)\n",
    "plt.show()"
   ]
  },
  {
   "cell_type": "markdown",
   "metadata": {},
   "source": [
    "数据太大，绘制出来的图的 edge 都重合在了一起。"
   ]
  },
  {
   "cell_type": "code",
   "execution_count": 16,
   "metadata": {},
   "outputs": [
    {
     "data": {
      "text/plain": [
       "Text(0.5,0,'rank')"
      ]
     },
     "execution_count": 16,
     "metadata": {},
     "output_type": "execute_result"
    },
    {
     "data": {
      "image/png": "[encoded data removed]",
      "text/plain": [
       "<Figure size 432x288 with 1 Axes>"
      ]
     },
     "metadata": {},
     "output_type": "display_data"
    }
   ],
   "source": [
    "degree_sequence = sorted([d for n, d in B.degree()], reverse=True)\n",
    "# print \"Degree sequence\", degree_sequence\n",
    "dmax = max(degree_sequence)\n",
    "\n",
    "plt.loglog(degree_sequence, 'b-', marker='o')\n",
    "plt.title(\"Degree rank plot\")\n",
    "plt.ylabel(\"degree\")\n",
    "plt.xlabel(\"rank\")"
   ]
  },
  {
   "cell_type": "markdown",
   "metadata": {},
   "source": [
    "从度的排名分布，可以看出，节点最大的度接近 10^3， 大部分节点的度在10以上"
   ]
  },
  {
   "cell_type": "markdown",
   "metadata": {},
   "source": [
    "#### 2.2 训练以及预测数据"
   ]
  },
  {
   "cell_type": "code",
   "execution_count": 17,
   "metadata": {},
   "outputs": [],
   "source": [
    "def train(G, alpha, root):\n",
    "    rank = {x:0 for x in G.nodes}\n",
    "    rank[root] = 1\n",
    "    for k in range(20):\n",
    "        tmp = {x:0 for x in G.nodes}\n",
    "        for i in G.nodes:\n",
    "            for j in G.neighbors(i):\n",
    "                if j not in tmp:\n",
    "                    tmp[j] = 0\n",
    "                tmp[j] += alpha * rank[i] / len(list(G.neighbors(i)))\n",
    "                if j == root:\n",
    "                    tmp[j] += 1 - alpha\n",
    "        rank = tmp\n",
    "    return rank"
   ]
  },
  {
   "cell_type": "code",
   "execution_count": 18,
   "metadata": {},
   "outputs": [],
   "source": [
    "def predict(data, rank, user, top_k):\n",
    "    connect_item = [item_id for item_id in list(set(data[data['u_user_id'] == user]['i_item_id']))]\n",
    "    recommend_item = [(key, rank[key]) for key in rank if key not in connect_item and 'u' not in key]\n",
    "    top_k_item = sorted(recommend_item, key=lambda x: x[1], reverse=True)[:top_k]\n",
    "    return top_k_item"
   ]
  },
  {
   "cell_type": "code",
   "execution_count": 19,
   "metadata": {},
   "outputs": [],
   "source": [
    "rank = train(B, 0.6, 'u1')"
   ]
  },
  {
   "cell_type": "code",
   "execution_count": 20,
   "metadata": {},
   "outputs": [
    {
     "data": {
      "text/plain": [
       "2625"
      ]
     },
     "execution_count": 20,
     "metadata": {},
     "output_type": "execute_result"
    }
   ],
   "source": [
    "len(rank)"
   ]
  },
  {
   "cell_type": "code",
   "execution_count": 21,
   "metadata": {},
   "outputs": [],
   "source": [
    "recom = predict(ratings, rank, 'u1', 10)"
   ]
  },
  {
   "cell_type": "code",
   "execution_count": 22,
   "metadata": {},
   "outputs": [
    {
     "data": {
      "text/plain": [
       "[('i294', 0.15324470372122767),\n",
       " ('i286', 0.15246896722144535),\n",
       " ('i288', 0.15145396819736498),\n",
       " ('i300', 0.12786681732017557),\n",
       " ('i405', 0.12387859376964586),\n",
       " ('i423', 0.11455305433970654),\n",
       " ('i318', 0.11040922508396171),\n",
       " ('i276', 0.10648420155210174),\n",
       " ('i313', 0.10603439806671902),\n",
       " ('i357', 0.09957394871086585)]"
      ]
     },
     "execution_count": 22,
     "metadata": {},
     "output_type": "execute_result"
    }
   ],
   "source": [
    "recom"
   ]
  },
  {
   "cell_type": "code",
   "execution_count": 23,
   "metadata": {},
   "outputs": [
    {
     "data": {
      "text/html": [
       "<div>\n",
       "<style scoped>\n",
       "    .dataframe tbody tr th:only-of-type {\n",
       "        vertical-align: middle;\n",
       "    }\n",
       "\n",
       "    .dataframe tbody tr th {\n",
       "        vertical-align: top;\n",
       "    }\n",
       "\n",
       "    .dataframe thead th {\n",
       "        text-align: right;\n",
       "    }\n",
       "</style>\n",
       "<table border=\"1\" class=\"dataframe\">\n",
       "  <thead>\n",
       "    <tr style=\"text-align: right;\">\n",
       "      <th></th>\n",
       "      <th>user_id</th>\n",
       "      <th>item_id</th>\n",
       "      <th>rating</th>\n",
       "      <th>timestamp</th>\n",
       "      <th>u_user_id</th>\n",
       "      <th>i_item_id</th>\n",
       "      <th>edges</th>\n",
       "    </tr>\n",
       "  </thead>\n",
       "  <tbody>\n",
       "    <tr>\n",
       "      <th>19996</th>\n",
       "      <td>1</td>\n",
       "      <td>170</td>\n",
       "      <td>5</td>\n",
       "      <td>876892856</td>\n",
       "      <td>u1</td>\n",
       "      <td>i170</td>\n",
       "      <td>(u1, i170)</td>\n",
       "    </tr>\n",
       "    <tr>\n",
       "      <th>7561</th>\n",
       "      <td>1</td>\n",
       "      <td>175</td>\n",
       "      <td>5</td>\n",
       "      <td>875072547</td>\n",
       "      <td>u1</td>\n",
       "      <td>i175</td>\n",
       "      <td>(u1, i175)</td>\n",
       "    </tr>\n",
       "    <tr>\n",
       "      <th>36844</th>\n",
       "      <td>1</td>\n",
       "      <td>119</td>\n",
       "      <td>5</td>\n",
       "      <td>876893098</td>\n",
       "      <td>u1</td>\n",
       "      <td>i119</td>\n",
       "      <td>(u1, i119)</td>\n",
       "    </tr>\n",
       "    <tr>\n",
       "      <th>38193</th>\n",
       "      <td>1</td>\n",
       "      <td>181</td>\n",
       "      <td>5</td>\n",
       "      <td>874965739</td>\n",
       "      <td>u1</td>\n",
       "      <td>i181</td>\n",
       "      <td>(u1, i181)</td>\n",
       "    </tr>\n",
       "    <tr>\n",
       "      <th>40519</th>\n",
       "      <td>1</td>\n",
       "      <td>109</td>\n",
       "      <td>5</td>\n",
       "      <td>874965739</td>\n",
       "      <td>u1</td>\n",
       "      <td>i109</td>\n",
       "      <td>(u1, i109)</td>\n",
       "    </tr>\n",
       "    <tr>\n",
       "      <th>9255</th>\n",
       "      <td>1</td>\n",
       "      <td>44</td>\n",
       "      <td>5</td>\n",
       "      <td>878543541</td>\n",
       "      <td>u1</td>\n",
       "      <td>i44</td>\n",
       "      <td>(u1, i44)</td>\n",
       "    </tr>\n",
       "    <tr>\n",
       "      <th>9170</th>\n",
       "      <td>1</td>\n",
       "      <td>14</td>\n",
       "      <td>5</td>\n",
       "      <td>874965706</td>\n",
       "      <td>u1</td>\n",
       "      <td>i14</td>\n",
       "      <td>(u1, i14)</td>\n",
       "    </tr>\n",
       "    <tr>\n",
       "      <th>8976</th>\n",
       "      <td>1</td>\n",
       "      <td>12</td>\n",
       "      <td>5</td>\n",
       "      <td>878542960</td>\n",
       "      <td>u1</td>\n",
       "      <td>i12</td>\n",
       "      <td>(u1, i12)</td>\n",
       "    </tr>\n",
       "    <tr>\n",
       "      <th>40783</th>\n",
       "      <td>1</td>\n",
       "      <td>223</td>\n",
       "      <td>5</td>\n",
       "      <td>876892918</td>\n",
       "      <td>u1</td>\n",
       "      <td>i223</td>\n",
       "      <td>(u1, i223)</td>\n",
       "    </tr>\n",
       "    <tr>\n",
       "      <th>8834</th>\n",
       "      <td>1</td>\n",
       "      <td>108</td>\n",
       "      <td>5</td>\n",
       "      <td>875240920</td>\n",
       "      <td>u1</td>\n",
       "      <td>i108</td>\n",
       "      <td>(u1, i108)</td>\n",
       "    </tr>\n",
       "  </tbody>\n",
       "</table>\n",
       "</div>"
      ],
      "text/plain": [
       "       user_id  item_id  rating  timestamp u_user_id i_item_id       edges\n",
       "19996        1      170       5  876892856        u1      i170  (u1, i170)\n",
       "7561         1      175       5  875072547        u1      i175  (u1, i175)\n",
       "36844        1      119       5  876893098        u1      i119  (u1, i119)\n",
       "38193        1      181       5  874965739        u1      i181  (u1, i181)\n",
       "40519        1      109       5  874965739        u1      i109  (u1, i109)\n",
       "9255         1       44       5  878543541        u1       i44   (u1, i44)\n",
       "9170         1       14       5  874965706        u1       i14   (u1, i14)\n",
       "8976         1       12       5  878542960        u1       i12   (u1, i12)\n",
       "40783        1      223       5  876892918        u1      i223  (u1, i223)\n",
       "8834         1      108       5  875240920        u1      i108  (u1, i108)"
      ]
     },
     "execution_count": 23,
     "metadata": {},
     "output_type": "execute_result"
    }
   ],
   "source": [
    "# 对比一下 u1 真实评分过的电影\n",
    "u1_love = ratings[ratings['u_user_id'] == 'u1'].sort_values(by=['rating'], ascending = False).iloc[:10]\n",
    "u1_love"
   ]
  },
  {
   "cell_type": "code",
   "execution_count": 24,
   "metadata": {},
   "outputs": [],
   "source": [
    "recom_list = [int(key[0][1:]) for key in recom]\n",
    "names = ['movie_id', 'movie_title', 'release_date', 'video_release_date',\n",
    "              'IMDb_URL', 'unknown', 'Action', 'Adventure', 'Animation',\n",
    "              'Children', 'Comedy', 'Crime', 'Documentary', 'Drama', 'Fantasy',\n",
    "              'Film-Noir', 'Horror', 'Musical', 'Mystery', 'Romance', 'Sci-Fi',\n",
    "              'Thriller', 'War', 'Western']\n",
    "movie = pd.read_csv(path+'u.item', sep='|', names=names)\n",
    "df_recom = movie[(movie.movie_id.isin(recom_list))]"
   ]
  },
  {
   "cell_type": "code",
   "execution_count": 25,
   "metadata": {},
   "outputs": [
    {
     "name": "stdout",
     "output_type": "stream",
     "text": [
      "推荐的电影\n"
     ]
    },
    {
     "data": {
      "text/html": [
       "<div>\n",
       "<style scoped>\n",
       "    .dataframe tbody tr th:only-of-type {\n",
       "        vertical-align: middle;\n",
       "    }\n",
       "\n",
       "    .dataframe tbody tr th {\n",
       "        vertical-align: top;\n",
       "    }\n",
       "\n",
       "    .dataframe thead th {\n",
       "        text-align: right;\n",
       "    }\n",
       "</style>\n",
       "<table border=\"1\" class=\"dataframe\">\n",
       "  <thead>\n",
       "    <tr style=\"text-align: right;\">\n",
       "      <th></th>\n",
       "      <th>movie_id</th>\n",
       "      <th>movie_title</th>\n",
       "      <th>release_date</th>\n",
       "      <th>video_release_date</th>\n",
       "      <th>IMDb_URL</th>\n",
       "      <th>unknown</th>\n",
       "      <th>Action</th>\n",
       "      <th>Adventure</th>\n",
       "      <th>Animation</th>\n",
       "      <th>Children</th>\n",
       "      <th>...</th>\n",
       "      <th>Fantasy</th>\n",
       "      <th>Film-Noir</th>\n",
       "      <th>Horror</th>\n",
       "      <th>Musical</th>\n",
       "      <th>Mystery</th>\n",
       "      <th>Romance</th>\n",
       "      <th>Sci-Fi</th>\n",
       "      <th>Thriller</th>\n",
       "      <th>War</th>\n",
       "      <th>Western</th>\n",
       "    </tr>\n",
       "  </thead>\n",
       "  <tbody>\n",
       "    <tr>\n",
       "      <th>275</th>\n",
       "      <td>276</td>\n",
       "      <td>Leaving Las Vegas (1995)</td>\n",
       "      <td>01-Jan-1995</td>\n",
       "      <td>NaN</td>\n",
       "      <td>http://us.imdb.com/M/title-exact?Leaving%20Las...</td>\n",
       "      <td>0</td>\n",
       "      <td>0</td>\n",
       "      <td>0</td>\n",
       "      <td>0</td>\n",
       "      <td>0</td>\n",
       "      <td>...</td>\n",
       "      <td>0</td>\n",
       "      <td>0</td>\n",
       "      <td>0</td>\n",
       "      <td>0</td>\n",
       "      <td>0</td>\n",
       "      <td>1</td>\n",
       "      <td>0</td>\n",
       "      <td>0</td>\n",
       "      <td>0</td>\n",
       "      <td>0</td>\n",
       "    </tr>\n",
       "    <tr>\n",
       "      <th>285</th>\n",
       "      <td>286</td>\n",
       "      <td>English Patient, The (1996)</td>\n",
       "      <td>15-Nov-1996</td>\n",
       "      <td>NaN</td>\n",
       "      <td>http://us.imdb.com/M/title-exact?English%20Pat...</td>\n",
       "      <td>0</td>\n",
       "      <td>0</td>\n",
       "      <td>0</td>\n",
       "      <td>0</td>\n",
       "      <td>0</td>\n",
       "      <td>...</td>\n",
       "      <td>0</td>\n",
       "      <td>0</td>\n",
       "      <td>0</td>\n",
       "      <td>0</td>\n",
       "      <td>0</td>\n",
       "      <td>1</td>\n",
       "      <td>0</td>\n",
       "      <td>0</td>\n",
       "      <td>1</td>\n",
       "      <td>0</td>\n",
       "    </tr>\n",
       "    <tr>\n",
       "      <th>287</th>\n",
       "      <td>288</td>\n",
       "      <td>Scream (1996)</td>\n",
       "      <td>20-Dec-1996</td>\n",
       "      <td>NaN</td>\n",
       "      <td>http://us.imdb.com/M/title-exact?Scream%20(1996)</td>\n",
       "      <td>0</td>\n",
       "      <td>0</td>\n",
       "      <td>0</td>\n",
       "      <td>0</td>\n",
       "      <td>0</td>\n",
       "      <td>...</td>\n",
       "      <td>0</td>\n",
       "      <td>0</td>\n",
       "      <td>1</td>\n",
       "      <td>0</td>\n",
       "      <td>0</td>\n",
       "      <td>0</td>\n",
       "      <td>0</td>\n",
       "      <td>1</td>\n",
       "      <td>0</td>\n",
       "      <td>0</td>\n",
       "    </tr>\n",
       "    <tr>\n",
       "      <th>293</th>\n",
       "      <td>294</td>\n",
       "      <td>Liar Liar (1997)</td>\n",
       "      <td>21-Mar-1997</td>\n",
       "      <td>NaN</td>\n",
       "      <td>http://us.imdb.com/Title?Liar+Liar+(1997)</td>\n",
       "      <td>0</td>\n",
       "      <td>0</td>\n",
       "      <td>0</td>\n",
       "      <td>0</td>\n",
       "      <td>0</td>\n",
       "      <td>...</td>\n",
       "      <td>0</td>\n",
       "      <td>0</td>\n",
       "      <td>0</td>\n",
       "      <td>0</td>\n",
       "      <td>0</td>\n",
       "      <td>0</td>\n",
       "      <td>0</td>\n",
       "      <td>0</td>\n",
       "      <td>0</td>\n",
       "      <td>0</td>\n",
       "    </tr>\n",
       "    <tr>\n",
       "      <th>299</th>\n",
       "      <td>300</td>\n",
       "      <td>Air Force One (1997)</td>\n",
       "      <td>01-Jan-1997</td>\n",
       "      <td>NaN</td>\n",
       "      <td>http://us.imdb.com/M/title-exact?Air+Force+One...</td>\n",
       "      <td>0</td>\n",
       "      <td>1</td>\n",
       "      <td>0</td>\n",
       "      <td>0</td>\n",
       "      <td>0</td>\n",
       "      <td>...</td>\n",
       "      <td>0</td>\n",
       "      <td>0</td>\n",
       "      <td>0</td>\n",
       "      <td>0</td>\n",
       "      <td>0</td>\n",
       "      <td>0</td>\n",
       "      <td>0</td>\n",
       "      <td>1</td>\n",
       "      <td>0</td>\n",
       "      <td>0</td>\n",
       "    </tr>\n",
       "    <tr>\n",
       "      <th>312</th>\n",
       "      <td>313</td>\n",
       "      <td>Titanic (1997)</td>\n",
       "      <td>01-Jan-1997</td>\n",
       "      <td>NaN</td>\n",
       "      <td>http://us.imdb.com/M/title-exact?imdb-title-12...</td>\n",
       "      <td>0</td>\n",
       "      <td>1</td>\n",
       "      <td>0</td>\n",
       "      <td>0</td>\n",
       "      <td>0</td>\n",
       "      <td>...</td>\n",
       "      <td>0</td>\n",
       "      <td>0</td>\n",
       "      <td>0</td>\n",
       "      <td>0</td>\n",
       "      <td>0</td>\n",
       "      <td>1</td>\n",
       "      <td>0</td>\n",
       "      <td>0</td>\n",
       "      <td>0</td>\n",
       "      <td>0</td>\n",
       "    </tr>\n",
       "    <tr>\n",
       "      <th>317</th>\n",
       "      <td>318</td>\n",
       "      <td>Schindler's List (1993)</td>\n",
       "      <td>01-Jan-1993</td>\n",
       "      <td>NaN</td>\n",
       "      <td>http://us.imdb.com/M/title-exact?Schindler's%2...</td>\n",
       "      <td>0</td>\n",
       "      <td>0</td>\n",
       "      <td>0</td>\n",
       "      <td>0</td>\n",
       "      <td>0</td>\n",
       "      <td>...</td>\n",
       "      <td>0</td>\n",
       "      <td>0</td>\n",
       "      <td>0</td>\n",
       "      <td>0</td>\n",
       "      <td>0</td>\n",
       "      <td>0</td>\n",
       "      <td>0</td>\n",
       "      <td>0</td>\n",
       "      <td>1</td>\n",
       "      <td>0</td>\n",
       "    </tr>\n",
       "    <tr>\n",
       "      <th>356</th>\n",
       "      <td>357</td>\n",
       "      <td>One Flew Over the Cuckoo's Nest (1975)</td>\n",
       "      <td>01-Jan-1975</td>\n",
       "      <td>NaN</td>\n",
       "      <td>http://us.imdb.com/M/title-exact?One%20Flew%20...</td>\n",
       "      <td>0</td>\n",
       "      <td>0</td>\n",
       "      <td>0</td>\n",
       "      <td>0</td>\n",
       "      <td>0</td>\n",
       "      <td>...</td>\n",
       "      <td>0</td>\n",
       "      <td>0</td>\n",
       "      <td>0</td>\n",
       "      <td>0</td>\n",
       "      <td>0</td>\n",
       "      <td>0</td>\n",
       "      <td>0</td>\n",
       "      <td>0</td>\n",
       "      <td>0</td>\n",
       "      <td>0</td>\n",
       "    </tr>\n",
       "    <tr>\n",
       "      <th>404</th>\n",
       "      <td>405</td>\n",
       "      <td>Mission: Impossible (1996)</td>\n",
       "      <td>22-May-1996</td>\n",
       "      <td>NaN</td>\n",
       "      <td>http://us.imdb.com/M/title-exact?Mission:%20Im...</td>\n",
       "      <td>0</td>\n",
       "      <td>1</td>\n",
       "      <td>1</td>\n",
       "      <td>0</td>\n",
       "      <td>0</td>\n",
       "      <td>...</td>\n",
       "      <td>0</td>\n",
       "      <td>0</td>\n",
       "      <td>0</td>\n",
       "      <td>0</td>\n",
       "      <td>1</td>\n",
       "      <td>0</td>\n",
       "      <td>0</td>\n",
       "      <td>0</td>\n",
       "      <td>0</td>\n",
       "      <td>0</td>\n",
       "    </tr>\n",
       "    <tr>\n",
       "      <th>422</th>\n",
       "      <td>423</td>\n",
       "      <td>E.T. the Extra-Terrestrial (1982)</td>\n",
       "      <td>01-Jan-1982</td>\n",
       "      <td>NaN</td>\n",
       "      <td>http://us.imdb.com/M/title-exact?E%2ET%2E%20th...</td>\n",
       "      <td>0</td>\n",
       "      <td>0</td>\n",
       "      <td>0</td>\n",
       "      <td>0</td>\n",
       "      <td>1</td>\n",
       "      <td>...</td>\n",
       "      <td>1</td>\n",
       "      <td>0</td>\n",
       "      <td>0</td>\n",
       "      <td>0</td>\n",
       "      <td>0</td>\n",
       "      <td>0</td>\n",
       "      <td>1</td>\n",
       "      <td>0</td>\n",
       "      <td>0</td>\n",
       "      <td>0</td>\n",
       "    </tr>\n",
       "  </tbody>\n",
       "</table>\n",
       "<p>10 rows × 24 columns</p>\n",
       "</div>"
      ],
      "text/plain": [
       "     movie_id                             movie_title release_date  \\\n",
       "275       276                Leaving Las Vegas (1995)  01-Jan-1995   \n",
       "285       286             English Patient, The (1996)  15-Nov-1996   \n",
       "287       288                           Scream (1996)  20-Dec-1996   \n",
       "293       294                        Liar Liar (1997)  21-Mar-1997   \n",
       "299       300                    Air Force One (1997)  01-Jan-1997   \n",
       "312       313                          Titanic (1997)  01-Jan-1997   \n",
       "317       318                 Schindler's List (1993)  01-Jan-1993   \n",
       "356       357  One Flew Over the Cuckoo's Nest (1975)  01-Jan-1975   \n",
       "404       405              Mission: Impossible (1996)  22-May-1996   \n",
       "422       423       E.T. the Extra-Terrestrial (1982)  01-Jan-1982   \n",
       "\n",
       "     video_release_date                                           IMDb_URL  \\\n",
       "275                 NaN  http://us.imdb.com/M/title-exact?Leaving%20Las...   \n",
       "285                 NaN  http://us.imdb.com/M/title-exact?English%20Pat...   \n",
       "287                 NaN   http://us.imdb.com/M/title-exact?Scream%20(1996)   \n",
       "293                 NaN          http://us.imdb.com/Title?Liar+Liar+(1997)   \n",
       "299                 NaN  http://us.imdb.com/M/title-exact?Air+Force+One...   \n",
       "312                 NaN  http://us.imdb.com/M/title-exact?imdb-title-12...   \n",
       "317                 NaN  http://us.imdb.com/M/title-exact?Schindler's%2...   \n",
       "356                 NaN  http://us.imdb.com/M/title-exact?One%20Flew%20...   \n",
       "404                 NaN  http://us.imdb.com/M/title-exact?Mission:%20Im...   \n",
       "422                 NaN  http://us.imdb.com/M/title-exact?E%2ET%2E%20th...   \n",
       "\n",
       "     unknown  Action  Adventure  Animation  Children   ...     Fantasy  \\\n",
       "275        0       0          0          0         0   ...           0   \n",
       "285        0       0          0          0         0   ...           0   \n",
       "287        0       0          0          0         0   ...           0   \n",
       "293        0       0          0          0         0   ...           0   \n",
       "299        0       1          0          0         0   ...           0   \n",
       "312        0       1          0          0         0   ...           0   \n",
       "317        0       0          0          0         0   ...           0   \n",
       "356        0       0          0          0         0   ...           0   \n",
       "404        0       1          1          0         0   ...           0   \n",
       "422        0       0          0          0         1   ...           1   \n",
       "\n",
       "     Film-Noir  Horror  Musical  Mystery  Romance  Sci-Fi  Thriller  War  \\\n",
       "275          0       0        0        0        1       0         0    0   \n",
       "285          0       0        0        0        1       0         0    1   \n",
       "287          0       1        0        0        0       0         1    0   \n",
       "293          0       0        0        0        0       0         0    0   \n",
       "299          0       0        0        0        0       0         1    0   \n",
       "312          0       0        0        0        1       0         0    0   \n",
       "317          0       0        0        0        0       0         0    1   \n",
       "356          0       0        0        0        0       0         0    0   \n",
       "404          0       0        0        1        0       0         0    0   \n",
       "422          0       0        0        0        0       1         0    0   \n",
       "\n",
       "     Western  \n",
       "275        0  \n",
       "285        0  \n",
       "287        0  \n",
       "293        0  \n",
       "299        0  \n",
       "312        0  \n",
       "317        0  \n",
       "356        0  \n",
       "404        0  \n",
       "422        0  \n",
       "\n",
       "[10 rows x 24 columns]"
      ]
     },
     "execution_count": 25,
     "metadata": {},
     "output_type": "execute_result"
    }
   ],
   "source": [
    "print '推荐的电影'\n",
    "df_recom"
   ]
  },
  {
   "cell_type": "code",
   "execution_count": 26,
   "metadata": {},
   "outputs": [
    {
     "name": "stdout",
     "output_type": "stream",
     "text": [
      "用户评分前十的电影\n"
     ]
    },
    {
     "data": {
      "text/html": [
       "<div>\n",
       "<style scoped>\n",
       "    .dataframe tbody tr th:only-of-type {\n",
       "        vertical-align: middle;\n",
       "    }\n",
       "\n",
       "    .dataframe tbody tr th {\n",
       "        vertical-align: top;\n",
       "    }\n",
       "\n",
       "    .dataframe thead th {\n",
       "        text-align: right;\n",
       "    }\n",
       "</style>\n",
       "<table border=\"1\" class=\"dataframe\">\n",
       "  <thead>\n",
       "    <tr style=\"text-align: right;\">\n",
       "      <th></th>\n",
       "      <th>movie_id</th>\n",
       "      <th>movie_title</th>\n",
       "      <th>release_date</th>\n",
       "      <th>video_release_date</th>\n",
       "      <th>IMDb_URL</th>\n",
       "      <th>unknown</th>\n",
       "      <th>Action</th>\n",
       "      <th>Adventure</th>\n",
       "      <th>Animation</th>\n",
       "      <th>Children</th>\n",
       "      <th>...</th>\n",
       "      <th>Fantasy</th>\n",
       "      <th>Film-Noir</th>\n",
       "      <th>Horror</th>\n",
       "      <th>Musical</th>\n",
       "      <th>Mystery</th>\n",
       "      <th>Romance</th>\n",
       "      <th>Sci-Fi</th>\n",
       "      <th>Thriller</th>\n",
       "      <th>War</th>\n",
       "      <th>Western</th>\n",
       "    </tr>\n",
       "  </thead>\n",
       "  <tbody>\n",
       "    <tr>\n",
       "      <th>11</th>\n",
       "      <td>12</td>\n",
       "      <td>Usual Suspects, The (1995)</td>\n",
       "      <td>14-Aug-1995</td>\n",
       "      <td>NaN</td>\n",
       "      <td>http://us.imdb.com/M/title-exact?Usual%20Suspe...</td>\n",
       "      <td>0</td>\n",
       "      <td>0</td>\n",
       "      <td>0</td>\n",
       "      <td>0</td>\n",
       "      <td>0</td>\n",
       "      <td>...</td>\n",
       "      <td>0</td>\n",
       "      <td>0</td>\n",
       "      <td>0</td>\n",
       "      <td>0</td>\n",
       "      <td>0</td>\n",
       "      <td>0</td>\n",
       "      <td>0</td>\n",
       "      <td>1</td>\n",
       "      <td>0</td>\n",
       "      <td>0</td>\n",
       "    </tr>\n",
       "    <tr>\n",
       "      <th>13</th>\n",
       "      <td>14</td>\n",
       "      <td>Postino, Il (1994)</td>\n",
       "      <td>01-Jan-1994</td>\n",
       "      <td>NaN</td>\n",
       "      <td>http://us.imdb.com/M/title-exact?Postino,%20Il...</td>\n",
       "      <td>0</td>\n",
       "      <td>0</td>\n",
       "      <td>0</td>\n",
       "      <td>0</td>\n",
       "      <td>0</td>\n",
       "      <td>...</td>\n",
       "      <td>0</td>\n",
       "      <td>0</td>\n",
       "      <td>0</td>\n",
       "      <td>0</td>\n",
       "      <td>0</td>\n",
       "      <td>1</td>\n",
       "      <td>0</td>\n",
       "      <td>0</td>\n",
       "      <td>0</td>\n",
       "      <td>0</td>\n",
       "    </tr>\n",
       "    <tr>\n",
       "      <th>43</th>\n",
       "      <td>44</td>\n",
       "      <td>Dolores Claiborne (1994)</td>\n",
       "      <td>01-Jan-1994</td>\n",
       "      <td>NaN</td>\n",
       "      <td>http://us.imdb.com/M/title-exact?Dolores%20Cla...</td>\n",
       "      <td>0</td>\n",
       "      <td>0</td>\n",
       "      <td>0</td>\n",
       "      <td>0</td>\n",
       "      <td>0</td>\n",
       "      <td>...</td>\n",
       "      <td>0</td>\n",
       "      <td>0</td>\n",
       "      <td>0</td>\n",
       "      <td>0</td>\n",
       "      <td>0</td>\n",
       "      <td>0</td>\n",
       "      <td>0</td>\n",
       "      <td>1</td>\n",
       "      <td>0</td>\n",
       "      <td>0</td>\n",
       "    </tr>\n",
       "    <tr>\n",
       "      <th>107</th>\n",
       "      <td>108</td>\n",
       "      <td>Kids in the Hall: Brain Candy (1996)</td>\n",
       "      <td>12-Apr-1996</td>\n",
       "      <td>NaN</td>\n",
       "      <td>http://us.imdb.com/M/title-exact?Kids%20in%20t...</td>\n",
       "      <td>0</td>\n",
       "      <td>0</td>\n",
       "      <td>0</td>\n",
       "      <td>0</td>\n",
       "      <td>0</td>\n",
       "      <td>...</td>\n",
       "      <td>0</td>\n",
       "      <td>0</td>\n",
       "      <td>0</td>\n",
       "      <td>0</td>\n",
       "      <td>0</td>\n",
       "      <td>0</td>\n",
       "      <td>0</td>\n",
       "      <td>0</td>\n",
       "      <td>0</td>\n",
       "      <td>0</td>\n",
       "    </tr>\n",
       "    <tr>\n",
       "      <th>108</th>\n",
       "      <td>109</td>\n",
       "      <td>Mystery Science Theater 3000: The Movie (1996)</td>\n",
       "      <td>19-Apr-1996</td>\n",
       "      <td>NaN</td>\n",
       "      <td>http://us.imdb.com/M/title-exact?Mystery%20Sci...</td>\n",
       "      <td>0</td>\n",
       "      <td>0</td>\n",
       "      <td>0</td>\n",
       "      <td>0</td>\n",
       "      <td>0</td>\n",
       "      <td>...</td>\n",
       "      <td>0</td>\n",
       "      <td>0</td>\n",
       "      <td>0</td>\n",
       "      <td>0</td>\n",
       "      <td>0</td>\n",
       "      <td>0</td>\n",
       "      <td>1</td>\n",
       "      <td>0</td>\n",
       "      <td>0</td>\n",
       "      <td>0</td>\n",
       "    </tr>\n",
       "    <tr>\n",
       "      <th>118</th>\n",
       "      <td>119</td>\n",
       "      <td>Maya Lin: A Strong Clear Vision (1994)</td>\n",
       "      <td>01-Jan-1994</td>\n",
       "      <td>NaN</td>\n",
       "      <td>http://us.imdb.com/M/title-exact?Maya%20Lin:%2...</td>\n",
       "      <td>0</td>\n",
       "      <td>0</td>\n",
       "      <td>0</td>\n",
       "      <td>0</td>\n",
       "      <td>0</td>\n",
       "      <td>...</td>\n",
       "      <td>0</td>\n",
       "      <td>0</td>\n",
       "      <td>0</td>\n",
       "      <td>0</td>\n",
       "      <td>0</td>\n",
       "      <td>0</td>\n",
       "      <td>0</td>\n",
       "      <td>0</td>\n",
       "      <td>0</td>\n",
       "      <td>0</td>\n",
       "    </tr>\n",
       "    <tr>\n",
       "      <th>169</th>\n",
       "      <td>170</td>\n",
       "      <td>Cinema Paradiso (1988)</td>\n",
       "      <td>01-Jan-1988</td>\n",
       "      <td>NaN</td>\n",
       "      <td>http://us.imdb.com/M/title-exact?Nuovo%20cinem...</td>\n",
       "      <td>0</td>\n",
       "      <td>0</td>\n",
       "      <td>0</td>\n",
       "      <td>0</td>\n",
       "      <td>0</td>\n",
       "      <td>...</td>\n",
       "      <td>0</td>\n",
       "      <td>0</td>\n",
       "      <td>0</td>\n",
       "      <td>0</td>\n",
       "      <td>0</td>\n",
       "      <td>1</td>\n",
       "      <td>0</td>\n",
       "      <td>0</td>\n",
       "      <td>0</td>\n",
       "      <td>0</td>\n",
       "    </tr>\n",
       "    <tr>\n",
       "      <th>174</th>\n",
       "      <td>175</td>\n",
       "      <td>Brazil (1985)</td>\n",
       "      <td>01-Jan-1985</td>\n",
       "      <td>NaN</td>\n",
       "      <td>http://us.imdb.com/M/title-exact?Brazil%20(1985)</td>\n",
       "      <td>0</td>\n",
       "      <td>0</td>\n",
       "      <td>0</td>\n",
       "      <td>0</td>\n",
       "      <td>0</td>\n",
       "      <td>...</td>\n",
       "      <td>0</td>\n",
       "      <td>0</td>\n",
       "      <td>0</td>\n",
       "      <td>0</td>\n",
       "      <td>0</td>\n",
       "      <td>0</td>\n",
       "      <td>1</td>\n",
       "      <td>0</td>\n",
       "      <td>0</td>\n",
       "      <td>0</td>\n",
       "    </tr>\n",
       "    <tr>\n",
       "      <th>180</th>\n",
       "      <td>181</td>\n",
       "      <td>Return of the Jedi (1983)</td>\n",
       "      <td>14-Mar-1997</td>\n",
       "      <td>NaN</td>\n",
       "      <td>http://us.imdb.com/M/title-exact?Return%20of%2...</td>\n",
       "      <td>0</td>\n",
       "      <td>1</td>\n",
       "      <td>1</td>\n",
       "      <td>0</td>\n",
       "      <td>0</td>\n",
       "      <td>...</td>\n",
       "      <td>0</td>\n",
       "      <td>0</td>\n",
       "      <td>0</td>\n",
       "      <td>0</td>\n",
       "      <td>0</td>\n",
       "      <td>1</td>\n",
       "      <td>1</td>\n",
       "      <td>0</td>\n",
       "      <td>1</td>\n",
       "      <td>0</td>\n",
       "    </tr>\n",
       "    <tr>\n",
       "      <th>222</th>\n",
       "      <td>223</td>\n",
       "      <td>Sling Blade (1996)</td>\n",
       "      <td>22-Nov-1996</td>\n",
       "      <td>NaN</td>\n",
       "      <td>http://us.imdb.com/M/title-exact?Sling%20Blade...</td>\n",
       "      <td>0</td>\n",
       "      <td>0</td>\n",
       "      <td>0</td>\n",
       "      <td>0</td>\n",
       "      <td>0</td>\n",
       "      <td>...</td>\n",
       "      <td>0</td>\n",
       "      <td>0</td>\n",
       "      <td>0</td>\n",
       "      <td>0</td>\n",
       "      <td>0</td>\n",
       "      <td>0</td>\n",
       "      <td>0</td>\n",
       "      <td>1</td>\n",
       "      <td>0</td>\n",
       "      <td>0</td>\n",
       "    </tr>\n",
       "  </tbody>\n",
       "</table>\n",
       "<p>10 rows × 24 columns</p>\n",
       "</div>"
      ],
      "text/plain": [
       "     movie_id                                     movie_title release_date  \\\n",
       "11         12                      Usual Suspects, The (1995)  14-Aug-1995   \n",
       "13         14                              Postino, Il (1994)  01-Jan-1994   \n",
       "43         44                        Dolores Claiborne (1994)  01-Jan-1994   \n",
       "107       108            Kids in the Hall: Brain Candy (1996)  12-Apr-1996   \n",
       "108       109  Mystery Science Theater 3000: The Movie (1996)  19-Apr-1996   \n",
       "118       119          Maya Lin: A Strong Clear Vision (1994)  01-Jan-1994   \n",
       "169       170                          Cinema Paradiso (1988)  01-Jan-1988   \n",
       "174       175                                   Brazil (1985)  01-Jan-1985   \n",
       "180       181                       Return of the Jedi (1983)  14-Mar-1997   \n",
       "222       223                              Sling Blade (1996)  22-Nov-1996   \n",
       "\n",
       "     video_release_date                                           IMDb_URL  \\\n",
       "11                  NaN  http://us.imdb.com/M/title-exact?Usual%20Suspe...   \n",
       "13                  NaN  http://us.imdb.com/M/title-exact?Postino,%20Il...   \n",
       "43                  NaN  http://us.imdb.com/M/title-exact?Dolores%20Cla...   \n",
       "107                 NaN  http://us.imdb.com/M/title-exact?Kids%20in%20t...   \n",
       "108                 NaN  http://us.imdb.com/M/title-exact?Mystery%20Sci...   \n",
       "118                 NaN  http://us.imdb.com/M/title-exact?Maya%20Lin:%2...   \n",
       "169                 NaN  http://us.imdb.com/M/title-exact?Nuovo%20cinem...   \n",
       "174                 NaN   http://us.imdb.com/M/title-exact?Brazil%20(1985)   \n",
       "180                 NaN  http://us.imdb.com/M/title-exact?Return%20of%2...   \n",
       "222                 NaN  http://us.imdb.com/M/title-exact?Sling%20Blade...   \n",
       "\n",
       "     unknown  Action  Adventure  Animation  Children   ...     Fantasy  \\\n",
       "11         0       0          0          0         0   ...           0   \n",
       "13         0       0          0          0         0   ...           0   \n",
       "43         0       0          0          0         0   ...           0   \n",
       "107        0       0          0          0         0   ...           0   \n",
       "108        0       0          0          0         0   ...           0   \n",
       "118        0       0          0          0         0   ...           0   \n",
       "169        0       0          0          0         0   ...           0   \n",
       "174        0       0          0          0         0   ...           0   \n",
       "180        0       1          1          0         0   ...           0   \n",
       "222        0       0          0          0         0   ...           0   \n",
       "\n",
       "     Film-Noir  Horror  Musical  Mystery  Romance  Sci-Fi  Thriller  War  \\\n",
       "11           0       0        0        0        0       0         1    0   \n",
       "13           0       0        0        0        1       0         0    0   \n",
       "43           0       0        0        0        0       0         1    0   \n",
       "107          0       0        0        0        0       0         0    0   \n",
       "108          0       0        0        0        0       1         0    0   \n",
       "118          0       0        0        0        0       0         0    0   \n",
       "169          0       0        0        0        1       0         0    0   \n",
       "174          0       0        0        0        0       1         0    0   \n",
       "180          0       0        0        0        1       1         0    1   \n",
       "222          0       0        0        0        0       0         1    0   \n",
       "\n",
       "     Western  \n",
       "11         0  \n",
       "13         0  \n",
       "43         0  \n",
       "107        0  \n",
       "108        0  \n",
       "118        0  \n",
       "169        0  \n",
       "174        0  \n",
       "180        0  \n",
       "222        0  \n",
       "\n",
       "[10 rows x 24 columns]"
      ]
     },
     "execution_count": 26,
     "metadata": {},
     "output_type": "execute_result"
    }
   ],
   "source": [
    "print '用户评分前十的电影'\n",
    "df_love = movie[(movie.movie_id.isin(u1_love.item_id.tolist()))]\n",
    "df_love"
   ]
  },
  {
   "cell_type": "markdown",
   "metadata": {},
   "source": [
    "- 通过对比电影的属性特征，发现这两种类型的电影确实有一定的相似性。例如，可以看出来两种类型的电影中的 'Romance' 类型的电影较多。\n",
    "- 但是这样比较的方式，太人为主管了，下面将通过更加科学的评价方式来实现。\n",
    "- 评价指标：精确率 precision, 召回率 recall"
   ]
  },
  {
   "cell_type": "markdown",
   "metadata": {},
   "source": [
    "## 3 使用验证集训练，测试集进行测试"
   ]
  },
  {
   "cell_type": "code",
   "execution_count": 27,
   "metadata": {},
   "outputs": [
    {
     "name": "stdout",
     "output_type": "stream",
     "text": [
      "80000\n",
      "20000\n"
     ]
    }
   ],
   "source": [
    "# 读入数据\n",
    "names = ['user_id', 'item_id', 'rating', 'timestamp']\n",
    "df_train = pd.read_csv(path+'u1.base', sep='\\t', names=names)\n",
    "df_test = pd.read_csv(path+'u1.test', sep='\\t', names=names)\n",
    "print len(df_train)\n",
    "print len(df_test)"
   ]
  },
  {
   "cell_type": "markdown",
   "metadata": {},
   "source": [
    "由于是无权重图，为了简化模型，认为 user 评论了 movie，则代表其看过该 movie，则我们应该像其推荐该 movie"
   ]
  },
  {
   "cell_type": "code",
   "execution_count": 28,
   "metadata": {},
   "outputs": [],
   "source": [
    "def preprocess(data):\n",
    "\n",
    "    data['u_user_id'] = data['user_id'].map(lambda x: 'u'+str(x))\n",
    "    data['i_item_id'] = data['item_id'].map(lambda x: 'i'+str(x))\n",
    "    data['edges'] = data.apply(lambda x: (x['u_user_id'], x['i_item_id']), axis = 1)\n",
    "\n",
    "    # 获得 user 节点，以及 item 节点\n",
    "    user_ids = data.u_user_id.unique().tolist()\n",
    "    item_ids = data.i_item_id.unique().tolist()\n",
    "    edges = data.edges.unique().tolist()\n",
    "    print 'user_ids : {}'.format(len(user_ids))\n",
    "    print 'item_ids : {}'.format(len(item_ids))\n",
    "    \n",
    "    B = nx.Graph()\n",
    "    B.add_nodes_from(user_ids, bipartite=0)\n",
    "    B.add_nodes_from(item_ids, bipartite=1)\n",
    "    B.add_edges_from(edges)\n",
    "    print nx.is_connected(B)\n",
    "    return B"
   ]
  },
  {
   "cell_type": "code",
   "execution_count": 29,
   "metadata": {},
   "outputs": [
    {
     "name": "stdout",
     "output_type": "stream",
     "text": [
      "user_ids : 943\n",
      "item_ids : 1650\n",
      "True\n",
      "user_ids : 459\n",
      "item_ids : 1410\n",
      "True\n"
     ]
    }
   ],
   "source": [
    "B_train = preprocess(df_train)\n",
    "B_test = preprocess(df_test)"
   ]
  },
  {
   "cell_type": "code",
   "execution_count": 30,
   "metadata": {},
   "outputs": [
    {
     "data": {
      "text/html": [
       "<div>\n",
       "<style scoped>\n",
       "    .dataframe tbody tr th:only-of-type {\n",
       "        vertical-align: middle;\n",
       "    }\n",
       "\n",
       "    .dataframe tbody tr th {\n",
       "        vertical-align: top;\n",
       "    }\n",
       "\n",
       "    .dataframe thead th {\n",
       "        text-align: right;\n",
       "    }\n",
       "</style>\n",
       "<table border=\"1\" class=\"dataframe\">\n",
       "  <thead>\n",
       "    <tr style=\"text-align: right;\">\n",
       "      <th></th>\n",
       "      <th>user_id</th>\n",
       "      <th>item_id</th>\n",
       "      <th>rating</th>\n",
       "      <th>timestamp</th>\n",
       "      <th>u_user_id</th>\n",
       "      <th>i_item_id</th>\n",
       "      <th>edges</th>\n",
       "    </tr>\n",
       "  </thead>\n",
       "  <tbody>\n",
       "    <tr>\n",
       "      <th>0</th>\n",
       "      <td>1</td>\n",
       "      <td>6</td>\n",
       "      <td>5</td>\n",
       "      <td>887431973</td>\n",
       "      <td>u1</td>\n",
       "      <td>i6</td>\n",
       "      <td>(u1, i6)</td>\n",
       "    </tr>\n",
       "    <tr>\n",
       "      <th>1</th>\n",
       "      <td>1</td>\n",
       "      <td>10</td>\n",
       "      <td>3</td>\n",
       "      <td>875693118</td>\n",
       "      <td>u1</td>\n",
       "      <td>i10</td>\n",
       "      <td>(u1, i10)</td>\n",
       "    </tr>\n",
       "    <tr>\n",
       "      <th>2</th>\n",
       "      <td>1</td>\n",
       "      <td>12</td>\n",
       "      <td>5</td>\n",
       "      <td>878542960</td>\n",
       "      <td>u1</td>\n",
       "      <td>i12</td>\n",
       "      <td>(u1, i12)</td>\n",
       "    </tr>\n",
       "    <tr>\n",
       "      <th>3</th>\n",
       "      <td>1</td>\n",
       "      <td>14</td>\n",
       "      <td>5</td>\n",
       "      <td>874965706</td>\n",
       "      <td>u1</td>\n",
       "      <td>i14</td>\n",
       "      <td>(u1, i14)</td>\n",
       "    </tr>\n",
       "    <tr>\n",
       "      <th>4</th>\n",
       "      <td>1</td>\n",
       "      <td>17</td>\n",
       "      <td>3</td>\n",
       "      <td>875073198</td>\n",
       "      <td>u1</td>\n",
       "      <td>i17</td>\n",
       "      <td>(u1, i17)</td>\n",
       "    </tr>\n",
       "  </tbody>\n",
       "</table>\n",
       "</div>"
      ],
      "text/plain": [
       "   user_id  item_id  rating  timestamp u_user_id i_item_id      edges\n",
       "0        1        6       5  887431973        u1        i6   (u1, i6)\n",
       "1        1       10       3  875693118        u1       i10  (u1, i10)\n",
       "2        1       12       5  878542960        u1       i12  (u1, i12)\n",
       "3        1       14       5  874965706        u1       i14  (u1, i14)\n",
       "4        1       17       3  875073198        u1       i17  (u1, i17)"
      ]
     },
     "execution_count": 30,
     "metadata": {},
     "output_type": "execute_result"
    }
   ],
   "source": [
    "df_test.head()"
   ]
  },
  {
   "cell_type": "code",
   "execution_count": 31,
   "metadata": {},
   "outputs": [],
   "source": [
    "def train(G, alpha, root):\n",
    "    rank = {x:0 for x in G.nodes}\n",
    "    rank[root] = 1\n",
    "    for k in range(20):\n",
    "        tmp = {x:0 for x in G.nodes}\n",
    "        for i in G.nodes:\n",
    "            for j in G.neighbors(i):\n",
    "                if j not in tmp:\n",
    "                    tmp[j] = 0\n",
    "                tmp[j] += alpha * rank[i] / len(list(G.neighbors(i)))\n",
    "                if j == root:\n",
    "                    tmp[j] += 1 - alpha\n",
    "        rank = tmp\n",
    "    return rank\n",
    "\n",
    "def predict(data, rank, user, top_k):\n",
    "    connect_item = [item_id for item_id in list(set(data[data['u_user_id'] == user]['i_item_id']))]\n",
    "    recommend_item = [(key, rank[key]) for key in rank if key not in connect_item and 'u' not in key]\n",
    "    top_k_item = sorted(recommend_item, key=lambda x: x[1], reverse=True)[:top_k]\n",
    "    return top_k_item"
   ]
  },
  {
   "cell_type": "code",
   "execution_count": 32,
   "metadata": {},
   "outputs": [],
   "source": [
    "def precision(test, user, top_k_item):\n",
    "    r_all = len(top_k_item)\n",
    "    recom_list = [int(key[0][1:]) for key in top_k_item]\n",
    "    data = test[test.u_user_id==user]\n",
    "    r = len(data[(data.item_id.isin(recom_list))].item_id.unique())\n",
    "    p = r*1.0/r_all\n",
    "    return p"
   ]
  },
  {
   "cell_type": "code",
   "execution_count": 33,
   "metadata": {},
   "outputs": [],
   "source": [
    "def recall(test, user ,top_k_item):\n",
    "    tu = test[test.u_user_id == user]['item_id'].nunique()\n",
    "    recom_list = [int(key[0][1:]) for key in top_k_item]\n",
    "    data = test[test.u_user_id==user]\n",
    "    r = len(data[(data.item_id.isin(recom_list))].item_id.unique())\n",
    "    rec = r*1.0/tu\n",
    "    return rec"
   ]
  },
  {
   "cell_type": "code",
   "execution_count": 34,
   "metadata": {},
   "outputs": [
    {
     "name": "stdout",
     "output_type": "stream",
     "text": [
      "True\n",
      "精确率 ：0.0904290429043\n",
      "召回率 ：1.0\n"
     ]
    }
   ],
   "source": [
    "# 以 user_id = 1 为例\n",
    "# B_train 需要将 df_test 与 u1 相连的 item 节点加入进去。加上边连接上item除了 u1 的边\n",
    "item_ids = df_test[df_test.u_user_id == 'u1'].i_item_id.unique().tolist()\n",
    "B_train.add_nodes_from(item_ids, bipartite=1)\n",
    "\n",
    "edges = df_test[(df_test.i_item_id.isin(item_ids) & (df_test.u_user_id != 'u1'))].edges.unique().tolist()\n",
    "B_train.add_edges_from(edges)\n",
    "print nx.is_connected(B_train)\n",
    "\n",
    "rank_1 = train(B_train, 0.6, 'u1')\n",
    "\n",
    "top_k = 1600\n",
    "top_k_item_1 = predict(df_train, rank_1, 'u1', top_k)\n",
    "p = precision(df_test, 'u1', top_k_item_1)\n",
    "print \"精确率 ：{}\".format(p)\n",
    "r = recall(df_test, 'u1' ,top_k_item_1)\n",
    "print \"召回率 ：{}\".format(r)"
   ]
  },
  {
   "cell_type": "markdown",
   "metadata": {},
   "source": [
    "上面可以看出，推荐 1600 个物品时，召回率为1，说明 user1 的物品全部推荐到了，但是精确率为0.09说明，推荐的大部分都不对。这是符合我们认知的。下面，减小推荐的数量"
   ]
  },
  {
   "cell_type": "code",
   "execution_count": 35,
   "metadata": {},
   "outputs": [
    {
     "name": "stdout",
     "output_type": "stream",
     "text": [
      "精确率 ：0.55\n",
      "召回率 ：0.401459854015\n"
     ]
    }
   ],
   "source": [
    "top_k = 100\n",
    "top_k_item_1 = predict(df_train, rank_1, 'u1', top_k)\n",
    "p = precision(df_test, 'u1', top_k_item_1)\n",
    "print \"精确率 ：{}\".format(p)\n",
    "r = recall(df_test, 'u1' ,top_k_item_1)\n",
    "print \"召回率 ：{}\".format(r)"
   ]
  },
  {
   "cell_type": "markdown",
   "metadata": {},
   "source": [
    "可以看出来召回率下降的同时，精确率有了提升。这就说明，通过设置推荐不同的推荐物品的数量，是可以调控不同的精确率和召回率。这对不同的场景需要不同的设置"
   ]
  },
  {
   "cell_type": "markdown",
   "metadata": {},
   "source": [
    "## 继续思考\n",
    "\n",
    "有了 rank 的统计之后，其实还可以做很多的事情。例如：\n",
    "\n",
    "- 给定一个用户，推荐 TOP K 个物品\n",
    "- 给定一个用户，推荐与其最相似的TOP K 个用户，这样根据这 TOP K个用户，大概反应出给定用户的风格，口味。\n",
    "- 给定一个物品，推荐最可能购买的 TOP K个用户\n",
    "- 给定一个物品，推荐与其最相似的 TOP K个物品。这样，如果某个用户购买了该给定物品，则有可能也购买与其相似的 TOP K个物品。"
   ]
  },
  {
   "cell_type": "markdown",
   "metadata": {},
   "source": [
    "### 上面实现了给定一个用户，推荐TOP K个物品。下面来实现其他3种情况"
   ]
  },
  {
   "cell_type": "markdown",
   "metadata": {},
   "source": [
    "#### Given a user, recommend top K users"
   ]
  },
  {
   "cell_type": "code",
   "execution_count": 37,
   "metadata": {},
   "outputs": [],
   "source": [
    "def predict_2(data, rank, user, top_k):\n",
    "    recommend_item = [(key, rank[key]) for key in rank if 'u' in key]\n",
    "    top_k_user = sorted(recommend_item, key=lambda x: x[1], reverse=True)[:top_k]\n",
    "    return top_k_user"
   ]
  },
  {
   "cell_type": "code",
   "execution_count": 40,
   "metadata": {},
   "outputs": [
    {
     "data": {
      "text/plain": [
       "[('u1', 54.52193049168424),\n",
       " ('u405', 0.26884352363731323),\n",
       " ('u655', 0.2558907756382409),\n",
       " ('u450', 0.17882656484161433),\n",
       " ('u682', 0.17851696237057937),\n",
       " ('u537', 0.1647901610090184),\n",
       " ('u234', 0.15852837054454608),\n",
       " ('u846', 0.15726027492852337),\n",
       " ('u551', 0.15276571091991728),\n",
       " ('u642', 0.15194227039391278),\n",
       " ('u13', 0.14533022806072848)]"
      ]
     },
     "execution_count": 40,
     "metadata": {},
     "output_type": "execute_result"
    }
   ],
   "source": [
    "# 对 u1 进行测试\n",
    "recom_user = predict_2(df_train, rank_1, 'u1', 11)\n",
    "recom_user"
   ]
  },
  {
   "cell_type": "markdown",
   "metadata": {},
   "source": [
    "#### Given an item, recommend top K items"
   ]
  },
  {
   "cell_type": "code",
   "execution_count": 42,
   "metadata": {},
   "outputs": [],
   "source": [
    "def predict_3(data, rank, item, top_k):\n",
    "    recommend_item = [(key, rank[key]) for key in rank if 'i' in key]\n",
    "    top_k_item = sorted(recommend_item, key=lambda x: x[1], reverse=True)[:top_k]\n",
    "    return top_k_item"
   ]
  },
  {
   "cell_type": "code",
   "execution_count": 43,
   "metadata": {},
   "outputs": [
    {
     "data": {
      "text/plain": [
       "[('i1', 154.19335802001666),\n",
       " ('i100', 0.7000761310964541),\n",
       " ('i50', 0.6832728073437634),\n",
       " ('i121', 0.6394814744473492),\n",
       " ('i258', 0.6039699593954139),\n",
       " ('i117', 0.5912159576904542),\n",
       " ('i181', 0.582652001036578),\n",
       " ('i222', 0.536724381597521),\n",
       " ('i294', 0.5282046381210629),\n",
       " ('i151', 0.4876129582214505),\n",
       " ('i237', 0.4804695473606781)]"
      ]
     },
     "execution_count": 43,
     "metadata": {},
     "output_type": "execute_result"
    }
   ],
   "source": [
    "rank_item_1 = train(B_train, 0.6, 'i1')\n",
    "recom_item = predict_3(df_train, rank_item_1, 'i1', 11)\n",
    "recom_item"
   ]
  },
  {
   "cell_type": "markdown",
   "metadata": {},
   "source": [
    "## 4 测试全部的用户"
   ]
  },
  {
   "cell_type": "markdown",
   "metadata": {},
   "source": [
    "放在 day_3 完成"
   ]
  },
  {
   "cell_type": "code",
   "execution_count": null,
   "metadata": {},
   "outputs": [],
   "source": []
  }
 ],
 "metadata": {
  "kernelspec": {
   "display_name": "Python 3",
   "language": "python",
   "name": "python3"
  },
  "language_info": {
   "codemirror_mode": {
    "name": "ipython",
    "version": 3
   },
   "file_extension": ".py",
   "mimetype": "text/x-python",
   "name": "python",
   "nbconvert_exporter": "python",
   "pygments_lexer": "ipython3",
   "version": "3.6.4"
  }
 },
 "nbformat": 4,
 "nbformat_minor": 2
}
