{
 "cells": [
  {
   "cell_type": "markdown",
   "metadata": {},
   "source": [
    "# 学习 SNAP的基本使用方法\n",
    "\n",
    "[http://snap.stanford.edu/snappy/doc/tutorial/tutorial.html](http://snap.stanford.edu/snappy/doc/tutorial/tutorial.html)\n",
    "\n",
    "snap在windows下 Anoconda3 下的安装使用，可以参看我的github：[Anaconda3使用python2环境](https://github.com/calfchen/software-installation-and-use/tree/master/Anaconda3%E4%BD%BF%E7%94%A8python2%E7%8E%AF%E5%A2%83)"
   ]
  },
  {
   "cell_type": "code",
   "execution_count": 1,
   "metadata": {},
   "outputs": [],
   "source": [
    "import snap\n",
    "import matplotlib.pyplot as plt\n",
    "%matplotlib inline"
   ]
  },
  {
   "cell_type": "markdown",
   "metadata": {},
   "source": [
    "## 1 Basic Types\n",
    "\n",
    "Basic types in SNAP are TInt, TFlt, and TStr. In Snap.py, these types are converted to Python types int, float, and str, respectively."
   ]
  },
  {
   "cell_type": "markdown",
   "metadata": {},
   "source": [
    "## 2 Vector Types\n",
    "\n",
    "Vector types in Snap.py and SNAP use a naming convention of being named as <type_name>, followed by V. For example, a vector of integers is named TIntV."
   ]
  },
  {
   "cell_type": "code",
   "execution_count": 2,
   "metadata": {},
   "outputs": [
    {
     "name": "stdout",
     "output_type": "stream",
     "text": [
      "5\n",
      "v[2] = 3\n",
      "v[2] = 6\n",
      "1\n",
      "2\n",
      "6\n",
      "4\n",
      "5\n",
      "0 1\n",
      "1 2\n",
      "2 6\n",
      "3 4\n",
      "4 5\n"
     ]
    }
   ],
   "source": [
    "# create an empty vector of integers\n",
    "v = snap.TIntV()\n",
    "# add a value at the end of a vector\n",
    "v.Add(1)\n",
    "v.Add(2)\n",
    "v.Add(3)\n",
    "v.Add(4)\n",
    "v.Add(5)\n",
    "# get the number of values in the vector:\n",
    "print v.Len()\n",
    "# get a value at a specific vector location\n",
    "print \"v[2] =\", v[2]\n",
    "# change a value at a specific vector location\n",
    "v.SetVal(2,6)\n",
    "print \"v[2] =\", v[2]\n",
    "# print all values in a vector using an iterator\n",
    "for item in v:\n",
    "    print item\n",
    "# print all values in a vector using an index\n",
    "for i in range(0, v.Len()):\n",
    "    print i, v[i]"
   ]
  },
  {
   "cell_type": "markdown",
   "metadata": {},
   "source": [
    "## 3 Hash Table Types\n",
    "\n",
    "Hash table types in Snap.py and SNAP use a naming convention of being named as <key_type_name><value_type_name>, followed by H. For example, a hash table with integer key and string values is named TIntStrH. If <key_type_name> and <value_type_name> have the same type, only one type name might be used, such as TIntH."
   ]
  },
  {
   "cell_type": "code",
   "execution_count": 3,
   "metadata": {},
   "outputs": [
    {
     "name": "stdout",
     "output_type": "stream",
     "text": [
      "5\n",
      "h[3] = three\n",
      "h[3] = four\n",
      "5 five\n",
      "3 four\n",
      "9 nine\n",
      "6 six\n",
      "1 one\n"
     ]
    }
   ],
   "source": [
    "# create an empty hash table with integer keys and string values\n",
    "h = snap.TIntStrH()\n",
    "# add a value to the table. 5 values are added below:\n",
    "h[5] = \"five\"\n",
    "h[3] = \"three\"\n",
    "h[9] = \"nine\"\n",
    "h[6] = \"six\"\n",
    "h[1] = \"one\"\n",
    "# get the number of values in the table:\n",
    "print h.Len()\n",
    "# get a value for a specific key\n",
    "print \"h[3] =\", h[3]\n",
    "# change a value at a specific key\n",
    "h[3] = \"four\"\n",
    "print \"h[3] =\", h[3]\n",
    "# print all values in a table using an iterator\n",
    "for key in h:\n",
    "    print key, h[key]"
   ]
  },
  {
   "cell_type": "markdown",
   "metadata": {},
   "source": [
    "## 4 Pair Types\n",
    "\n",
    "Pair types in Snap.py and SNAP use a naming convention of being named as <type1><type2>, followed by Pr. For example, a pair of (integer, string) is named TIntStrPr. If <type1> and <type2> have the same type, only one type name might be used, such as TIntPr."
   ]
  },
  {
   "cell_type": "code",
   "execution_count": 4,
   "metadata": {},
   "outputs": [
    {
     "name": "stdout",
     "output_type": "stream",
     "text": [
      "1\n",
      "one\n"
     ]
    }
   ],
   "source": [
    "# create a pair of an integer and a string:\n",
    "p = snap.TIntStrPr(1, \"one\")\n",
    "# print the first value:\n",
    "print p.GetVal1()\n",
    "# print the second value:\n",
    "print p.GetVal2()"
   ]
  },
  {
   "cell_type": "markdown",
   "metadata": {},
   "source": [
    "## 5 SNAP Types in Snap.py\n",
    "\n",
    "- PNGraph, a directed graph;\n",
    "- PUNGraph, an undirected graph;\n",
    "- PNEANet, a directed network;\n",
    "- PGraph, one of PNGraph, PUNGraph, or PNEANet;\n",
    "- TCnComV, a vector of connected components;\n",
    "- TFltPrV, a vector of float pairs;\n",
    "- TFltV, a vector of floats;\n",
    "- TGVizLayout, one of gvlDot, gvlNeato, gvlTwopi, gvlCirco, gvlSfdp;\n",
    "- TIntFltH, a hash table with integer keys and float values;\n",
    "- TIntFltKdV, a vector of (integer, float) values;\n",
    "- TIntH, a hash table with integer keys and values;\n",
    "- TIntPrFltH, a hash table with (integer, integer) pair keys and float values;\n",
    "- TIntPrV, a vector of (integer, integer) pairs;\n",
    "- TIntSet, a hash table with integer keys and no values;\n",
    "- TIntStrH, a hash table with integer keys and string values;\n",
    "- TIntTrV, a vector of (integer, integer, integer) triplets;\n",
    "- TIntV, a vector of integers;\n",
    "- TRnd, a random generator;\n",
    "- TStrHash, a hash table woth string keys and integer values;\n",
    "- TVec, a vector of vectors of floats."
   ]
  },
  {
   "cell_type": "markdown",
   "metadata": {},
   "source": [
    "### 5.1 Graph classes in SNAP\n",
    "\n",
    "- [TUNGraph](http://snap.stanford.edu/snappy/doc/reference/graphs.html#TUNGraph): undirected graphs (single edge between an unordered pair of nodes)\n",
    "- [TNGraph](http://snap.stanford.edu/snappy/doc/reference/graphs.html#TNGraph): directed graphs (single directed edge between an ordered pair of nodes)\n",
    "\n",
    "### 5.2 Network classes in SNAP\n",
    "\n",
    "- [TNEANet](http://snap.stanford.edu/snappy/doc/reference/graphs.html#TNEANet): directed multigraphs (multiple directed edges between an ordered pair of nodes) with attributes for nodes and edges\n",
    "\n",
    "### Attendtion\n",
    "\n",
    "Snap.py does not directly use instances of the graph and network classes, but utilizes smart pointers to those instances instead. The actual instances in the Python program are of type PUNGraph, PNGraph, or PNEAnet and correspond to TUNGraph, TNGraph, and TNEAnet, respectively.\n",
    "\n",
    "In general, if you need to call a class method, use T and if you need to specify an instance type, use P. For example:"
   ]
  },
  {
   "cell_type": "code",
   "execution_count": 5,
   "metadata": {},
   "outputs": [],
   "source": [
    "G1 = snap.TNGraph.New()\n",
    "G2 = snap.GenRndGnm(snap.PNGraph, 100, 1000)"
   ]
  },
  {
   "cell_type": "code",
   "execution_count": 6,
   "metadata": {},
   "outputs": [
    {
     "name": "stdout",
     "output_type": "stream",
     "text": [
      "node: 0, out-degree 12, in-degree 9\n",
      "node: 10, out-degree 7, in-degree 15\n",
      "node: 20, out-degree 15, in-degree 10\n",
      "node: 30, out-degree 5, in-degree 11\n",
      "node: 40, out-degree 8, in-degree 7\n",
      "node: 50, out-degree 7, in-degree 9\n",
      "node: 60, out-degree 10, in-degree 11\n",
      "node: 70, out-degree 10, in-degree 8\n",
      "node: 80, out-degree 13, in-degree 8\n",
      "node: 90, out-degree 12, in-degree 12\n",
      "edge (0, 5)\n",
      "edge (9, 45)\n",
      "edge (19, 98)\n",
      "edge (29, 40)\n",
      "edge (40, 9)\n",
      "edge (49, 60)\n",
      "edge (60, 69)\n",
      "edge (71, 79)\n",
      "edge (81, 15)\n",
      "edge (90, 14)\n"
     ]
    }
   ],
   "source": [
    "# Graph Creation\n",
    "G1 = snap.TUNGraph.New()\n",
    "G2 = snap.TNGraph.New()\n",
    "N1 = snap.TNEANet.New()\n",
    "# Adding Nodes and Edges\n",
    "G1.AddNode(1)\n",
    "G1.AddNode(5)\n",
    "G1.AddNode(32)\n",
    "\n",
    "G1.AddEdge(1,5)\n",
    "G1.AddEdge(5,1)\n",
    "G1.AddEdge(5,32)\n",
    "# Traversing Nodes and Edges\n",
    "G2 = snap.GenRndGnm(snap.PNGraph, 100, 1000)\n",
    "time = 0\n",
    "for NI in G2.Nodes():\n",
    "    if time % 10 == 0:\n",
    "        print \"node: %d, out-degree %d, in-degree %d\" % ( NI.GetId(), NI.GetOutDeg(), NI.GetInDeg())\n",
    "    time += 1\n",
    "    \n",
    "time = 0\n",
    "for EI in G2.Edges():\n",
    "    if time % 100 == 0:\n",
    "        print \"edge (%d, %d)\" % (EI.GetSrcNId(), EI.GetDstNId())\n",
    "    time += 1\n",
    "# Saving and Loading Graphs\n",
    "FOut = snap.TFOut(\"test.graph\")\n",
    "G2.Save(FOut)\n",
    "FOut.Flush()\n",
    "\n",
    "FIn = snap.TFIn(\"test.graph\")\n",
    "G4 = snap.TNGraph.Load(FIn)\n",
    "\n",
    "snap.SaveEdgeList(G4, \"test.txt\", \"Save as tab-separated list of edges\")\n",
    "G5 = snap.LoadEdgeList(snap.PNGraph, \"test.txt\", 0, 1)"
   ]
  },
  {
   "cell_type": "markdown",
   "metadata": {},
   "source": [
    "### 5.3 Graph Manipulation"
   ]
  },
  {
   "cell_type": "code",
   "execution_count": 7,
   "metadata": {},
   "outputs": [],
   "source": [
    "# Generate a random Erdos-Renyi directed graph on 10000 nodes and with 5000 edges\n",
    "G6 = snap.GenRndGnm(snap.PNGraph, 10000, 5000)\n",
    "# Convert a directed graph to an undirected graph:\n",
    "G7 = snap.ConvertGraph(snap.PUNGraph, G6)\n",
    "# Get the largest weakly connected component:\n",
    "WccG = snap.GetMxWcc(G6)\n",
    "# Generate a network using Forest Fire model:\n",
    "G8 = snap.GenForestFire(1000, 0.35, 0.35)\n",
    "# Get a subgraph induced on nodes {0,1,2,3,4}:\n",
    "SubG = snap.GetSubGraph(G8, snap.TIntV.GetV(0,1,2,3,4))\n",
    "# Get 3-core of G:\n",
    "Core3 = snap.GetKCore(G8, 3)\n",
    "# Delete nodes of out-degree 3 and in-degree 2:\n",
    "snap.DelDegKNodes(G8, 3, 2)"
   ]
  },
  {
   "cell_type": "markdown",
   "metadata": {},
   "source": [
    "### 5.4 Computing Structural Properties"
   ]
  },
  {
   "cell_type": "code",
   "execution_count": 8,
   "metadata": {},
   "outputs": [
    {
     "name": "stdout",
     "output_type": "stream",
     "text": [
      "size 1: count 8206\n",
      "size 2: count 641\n",
      "size 3: count 120\n",
      "size 4: count 22\n",
      "size 5: count 6\n",
      "size 6: count 3\n",
      "size 8: count 2\n",
      "degree 0: count 9055\n",
      "degree 1: count 892\n",
      "degree 2: count 51\n",
      "degree 3: count 2\n",
      "1: 0.181666\n",
      "11: 0.084229\n",
      "21: 0.074763\n",
      "31: 0.134220\n",
      "41: 0.089203\n",
      "51: 0.026735\n",
      "61: 0.068499\n",
      "71: 0.045116\n",
      "81: 0.059472\n",
      "91: 0.084133\n"
     ]
    }
   ],
   "source": [
    "# Generate a random Erdos-Renyi directed graph on 10000 nodes and with 1000 edges:\n",
    "G9 = snap.GenRndGnm(snap.PNGraph, 10000, 1000)\n",
    "# Define a vector of pairs of integers (size, count) and get a distribution of connected components (component size, count):\n",
    "CntV = snap.TIntPrV()\n",
    "snap.GetWccSzCnt(G9, CntV)\n",
    "for p in CntV:\n",
    "    print \"size %d: count %d\" % (p.GetVal1(), p.GetVal2())\n",
    "# Get degree distribution pairs (out-degree, count):\n",
    "snap.GetOutDegCnt(G9, CntV)\n",
    "for p in CntV:\n",
    "    print \"degree %d: count %d\" % (p.GetVal1(), p.GetVal2())\n",
    "# Generate a Preferential Attachment graph on 100 nodes and out-degree of 3:\n",
    "G10 = snap.GenPrefAttach(100, 3)\n",
    "# Define a vector of floats and get first eigenvector of graph adjacency matrix:\n",
    "EigV = snap.TFltV()\n",
    "snap.GetEigVec(G10, EigV)\n",
    "nr = 0\n",
    "time = 0\n",
    "for f in EigV:\n",
    "    nr += 1\n",
    "    if time % 10 == 0:\n",
    "        print \"%d: %.6f\" % (nr, f)\n",
    "    time += 1\n",
    "# Get an approximation of graph diameter:\n",
    "diam = snap.GetBfsFullDiam(G10, 10)\n",
    "# Count the number of triads:\n",
    "triads = snap.GetTriads(G10)\n",
    "# Get the clustering coefficient:\n",
    "cf = snap.GetClustCf(G10)"
   ]
  },
  {
   "cell_type": "code",
   "execution_count": 9,
   "metadata": {},
   "outputs": [],
   "source": [
    "G = snap.LoadEdgeList(snap.PNGraph, \"test.txt\", 1, 5)\n",
    "snap.PlotInDegDistr(G, \"Stack-Java\", \"Stack-Java In Degree\")"
   ]
  },
  {
   "cell_type": "markdown",
   "metadata": {},
   "source": [
    "# Continue learning SNAP\n",
    "\n",
    "学习内容：\n",
    "\n",
    "- [More exmaple about SNAP](http://snap.stanford.edu/class/cs224w-2017/recitation/SNAP.PY_Recitation.pdf)\n",
    "- [Python API](https://snap.stanford.edu/snappy/doc/index.html)\n",
    "\n",
    "snap提供的数据集：\n",
    "\n",
    "- [SNAP Datasets](http://snap.stanford.edu/data.)"
   ]
  },
  {
   "cell_type": "markdown",
   "metadata": {},
   "source": [
    "## 1 All examples\n",
    "\n",
    "官方提供了4个文件，我们可以直接运行一下，看看效果\n",
    "\n",
    "- grapy.py\n",
    "- hash.py\n",
    "- pair.py\n",
    "- vector.py\n",
    "\n",
    "这里不再演示，可以参考 Day_1"
   ]
  },
  {
   "cell_type": "markdown",
   "metadata": {},
   "source": [
    "##  2 Play the data\n",
    "\n",
    "找个 snap 的数据集看看。\n",
    "\n",
    "使用的数据集 [General Relativity and Quantum Cosmology collaboration network](http://snap.stanford.edu/data/ca-GrQc.html)\n",
    "\n",
    "数据描述：\n",
    "\n",
    "| Dataset statistics | |\n",
    "|----|----|\n",
    "| Nodes\t| 5242 |\n",
    "| Edges\t| 14496 |\n",
    "| Nodes in largest WCC\t| 4158 (0.793) |\n",
    "| Edges in largest WCC\t| 13428 (0.926) |\n",
    "| Nodes in largest SCC\t| 4158 (0.793) |\n",
    "| Edges in largest SCC\t| 13428 (0.926) |\n",
    "| Average clustering coefficient\t| 0.5296 |\n",
    "| Number of triangles\t| 48260 |\n",
    "| Fraction of closed triangles\t| 0.3619 |\n",
    "| Diameter (longest shortest path)\t| 17 |\n",
    "| 90-percentile effective diameter\t| 7.6 |"
   ]
  },
  {
   "cell_type": "markdown",
   "metadata": {},
   "source": [
    "### 2.1 载入 CA-GrQc.txt 文件\n",
    "\n",
    "文中介绍说 Arxiv GR-QC (General Relativity and Quantum Cosmology) collaboration network 来自e-print arXiv，涵盖了提交给广义相对论和量子宇宙学类别的作者论文之间的科学合作。如果作者i与作者j共同撰写了一篇论文，该图表包含从i到j的无向边。如果论文由k个作者共同撰写，则在k个节点上生成完全连接的（子）图。"
   ]
  },
  {
   "cell_type": "code",
   "execution_count": 10,
   "metadata": {},
   "outputs": [],
   "source": [
    "path = './data/'\n",
    "G = snap.LoadEdgeList(snap.PUNGraph, path+\"CA-GrQc.txt\", 0, 1)"
   ]
  },
  {
   "cell_type": "code",
   "execution_count": 11,
   "metadata": {},
   "outputs": [
    {
     "name": "stdout",
     "output_type": "stream",
     "text": [
      "node numbers : 5242\n",
      "edge numbers : 14496\n"
     ]
    }
   ],
   "source": [
    "## 查看一下 graph 的 node, edge 信息\n",
    "print \"node numbers : %d\" % (G.GetNodes())\n",
    "print \"edge numbers : %d\" % (G.GetEdges())"
   ]
  },
  {
   "cell_type": "code",
   "execution_count": 12,
   "metadata": {},
   "outputs": [],
   "source": [
    "snap.PlotInDegDistr(G, \"CA-GrQc\", \"CA-GrQc In Degree\")"
   ]
  },
  {
   "cell_type": "markdown",
   "metadata": {},
   "source": [
    "生成的图片显示如下：注意，以 Windows为例，前提安装完[gnuplot](http://www.tatsuromatsuoka.com/gnuplot/Eng/winbin/gp530-20180807-win64-mingw.exe.zip)\n",
    "\n",
    "![](./picture/inDeg.CA-GrQc.png)"
   ]
  },
  {
   "cell_type": "code",
   "execution_count": 13,
   "metadata": {},
   "outputs": [],
   "source": [
    "snap.PlotOutDegDistr(G, \"CA-GrQc\", \"CA-GrQc Out Degree\")"
   ]
  },
  {
   "cell_type": "markdown",
   "metadata": {},
   "source": [
    "![](./picture/outDeg.CA-GrQc.png)"
   ]
  },
  {
   "cell_type": "markdown",
   "metadata": {},
   "source": [
    "从上图可以看出，对于无向图来将，in-degree 和 out-degree是一样的，因为所有节点有一个出度，必定有一个入度。"
   ]
  },
  {
   "cell_type": "code",
   "execution_count": 14,
   "metadata": {},
   "outputs": [
    {
     "name": "stdout",
     "output_type": "stream",
     "text": [
      "node: 3466, out-degree 8, in-degree 8\n",
      "node: 23293, out-degree 53, in-degree 53\n",
      "node: 896, out-degree 5, in-degree 5\n",
      "node: 10435, out-degree 3, in-degree 3\n",
      "node: 3765, out-degree 7, in-degree 7\n",
      "node: 13493, out-degree 3, in-degree 3\n",
      "node: 24578, out-degree 4, in-degree 4\n",
      "node: 8742, out-degree 3, in-degree 3\n",
      "node: 25896, out-degree 7, in-degree 7\n",
      "node: 294, out-degree 1, in-degree 1\n",
      "node: 4017, out-degree 2, in-degree 2\n",
      "node: 2532, out-degree 1, in-degree 1\n",
      "node: 3843, out-degree 19, in-degree 19\n",
      "node: 20434, out-degree 2, in-degree 2\n",
      "node: 23416, out-degree 1, in-degree 1\n",
      "node: 348, out-degree 2, in-degree 2\n",
      "node: 16042, out-degree 2, in-degree 2\n",
      "node: 4432, out-degree 1, in-degree 1\n"
     ]
    }
   ],
   "source": [
    "# 遍历节点\n",
    "time = 0\n",
    "for NI in G.Nodes():\n",
    "    if time % 300 == 0:\n",
    "        print \"node: %d, out-degree %d, in-degree %d\" % ( NI.GetId(), NI.GetOutDeg(), NI.GetInDeg())\n",
    "    time += 1"
   ]
  },
  {
   "cell_type": "code",
   "execution_count": 15,
   "metadata": {},
   "outputs": [
    {
     "name": "stdout",
     "output_type": "stream",
     "text": [
      "edge (3466, 5233)\n",
      "edge (2710, 5172)\n",
      "edge (6179, 20635)\n",
      "edge (19890, 23423)\n",
      "edge (1310, 14627)\n",
      "edge (2474, 20373)\n",
      "edge (2535, 7197)\n",
      "edge (4213, 20645)\n",
      "edge (351, 3939)\n",
      "edge (6266, 15300)\n",
      "edge (11537, 20765)\n",
      "edge (16102, 22463)\n",
      "edge (3652, 21825)\n",
      "edge (18444, 22901)\n",
      "edge (3719, 8072)\n"
     ]
    }
   ],
   "source": [
    "# 遍历边\n",
    "time = 0\n",
    "for EI in G.Edges():\n",
    "    if time % 1000 == 0:\n",
    "        print \"edge (%d, %d)\" % (EI.GetSrcNId(), EI.GetDstNId())\n",
    "    time += 1"
   ]
  },
  {
   "cell_type": "markdown",
   "metadata": {},
   "source": [
    "看到里面有个 GetSmallGraph() ： Returns a small graph on 5 nodes and 5 edges 测试一下"
   ]
  },
  {
   "cell_type": "code",
   "execution_count": 16,
   "metadata": {},
   "outputs": [],
   "source": [
    "SmallGraph = G.GetSmallGraph()"
   ]
  },
  {
   "cell_type": "code",
   "execution_count": 17,
   "metadata": {},
   "outputs": [
    {
     "name": "stdout",
     "output_type": "stream",
     "text": [
      "node: 0, out-degree 4, in-degree 4\n",
      "node: 1, out-degree 2, in-degree 2\n",
      "node: 2, out-degree 2, in-degree 2\n",
      "node: 3, out-degree 1, in-degree 1\n",
      "node: 4, out-degree 1, in-degree 1\n",
      "edge (0, 1)\n",
      "edge (0, 2)\n",
      "edge (0, 3)\n",
      "edge (0, 4)\n",
      "edge (1, 2)\n"
     ]
    }
   ],
   "source": [
    "for NI in SmallGraph.Nodes():\n",
    "    print \"node: %d, out-degree %d, in-degree %d\" % ( NI.GetId(), NI.GetOutDeg(), NI.GetInDeg())\n",
    "    \n",
    "for EI in SmallGraph.Edges():\n",
    "    print \"edge (%d, %d)\" % (EI.GetSrcNId(), EI.GetDstNId())"
   ]
  },
  {
   "cell_type": "code",
   "execution_count": 18,
   "metadata": {},
   "outputs": [
    {
     "data": {
      "text/plain": [
       "-1"
      ]
     },
     "execution_count": 18,
     "metadata": {},
     "output_type": "execute_result"
    }
   ],
   "source": [
    "# 对于这个 SmallGraph 就好上手了\n",
    "SmallGraph.AddNode(5)\n",
    "SmallGraph.AddNode(6)\n",
    "SmallGraph.AddNode(7)\n",
    "SmallGraph.AddNode(8)\n",
    "SmallGraph.AddEdge(3,5)\n",
    "SmallGraph.AddEdge(2,5)\n",
    "SmallGraph.AddEdge(1,3)\n",
    "SmallGraph.AddEdge(2,4)"
   ]
  },
  {
   "cell_type": "code",
   "execution_count": 19,
   "metadata": {},
   "outputs": [
    {
     "name": "stdout",
     "output_type": "stream",
     "text": [
      "9\n",
      "9\n"
     ]
    }
   ],
   "source": [
    "print SmallGraph.GetNodes()\n",
    "print SmallGraph.GetEdges()"
   ]
  },
  {
   "cell_type": "code",
   "execution_count": 20,
   "metadata": {},
   "outputs": [
    {
     "name": "stdout",
     "output_type": "stream",
     "text": [
      "node: 0, out-degree 4, in-degree 4\n",
      "node: 1, out-degree 3, in-degree 3\n",
      "node: 2, out-degree 4, in-degree 4\n",
      "node: 3, out-degree 3, in-degree 3\n",
      "node: 4, out-degree 2, in-degree 2\n",
      "node: 5, out-degree 2, in-degree 2\n",
      "node: 6, out-degree 0, in-degree 0\n",
      "node: 7, out-degree 0, in-degree 0\n",
      "node: 8, out-degree 0, in-degree 0\n",
      "edge (0, 1)\n",
      "edge (0, 2)\n",
      "edge (0, 3)\n",
      "edge (0, 4)\n",
      "edge (1, 2)\n",
      "edge (1, 3)\n",
      "edge (2, 4)\n",
      "edge (2, 5)\n",
      "edge (3, 5)\n"
     ]
    }
   ],
   "source": [
    "# 访问节点和边\n",
    "for NI in SmallGraph.Nodes():\n",
    "    print \"node: %d, out-degree %d, in-degree %d\" % ( NI.GetId(), NI.GetOutDeg(), NI.GetInDeg())\n",
    "    \n",
    "for EI in SmallGraph.Edges():\n",
    "    print \"edge (%d, %d)\" % (EI.GetSrcNId(), EI.GetDstNId())"
   ]
  },
  {
   "cell_type": "code",
   "execution_count": 21,
   "metadata": {},
   "outputs": [],
   "source": [
    "snap.PrintInfo(SmallGraph, \"QA Stats\", \"SmallGraph-info.txt\", False)"
   ]
  },
  {
   "cell_type": "code",
   "execution_count": 22,
   "metadata": {},
   "outputs": [
    {
     "name": "stdout",
     "output_type": "stream",
     "text": [
      "max degree node 0\n"
     ]
    }
   ],
   "source": [
    "NId = snap.GetMxDegNId(SmallGraph)\n",
    "print \"max degree node\", NId"
   ]
  },
  {
   "cell_type": "code",
   "execution_count": 23,
   "metadata": {},
   "outputs": [
    {
     "name": "stdout",
     "output_type": "stream",
     "text": [
      "3 nodes with degree 0\n",
      "2 nodes with degree 2\n",
      "2 nodes with degree 3\n",
      "2 nodes with degree 4\n"
     ]
    }
   ],
   "source": [
    "# 创建一个\n",
    "DegToCntV = snap.TIntPrV()\n",
    "snap.GetDegCnt(SmallGraph, DegToCntV)\n",
    "for item in DegToCntV:\n",
    "    print \"%d nodes with degree %d\" % (item.GetVal2(), item.GetVal1())"
   ]
  },
  {
   "cell_type": "code",
   "execution_count": 24,
   "metadata": {},
   "outputs": [
    {
     "name": "stdout",
     "output_type": "stream",
     "text": [
      "0 0.199955705981\n",
      "1 0.152912921254\n",
      "2 0.20221700025\n",
      "3 0.156011302111\n",
      "4 0.108714421345\n",
      "5 0.11042120707\n",
      "6 0.0232558139964\n",
      "7 0.0232558139964\n",
      "8 0.0232558139964\n"
     ]
    }
   ],
   "source": [
    "# 看看图中哪个节点最重要\n",
    "PRankH = snap.TIntFltH()\n",
    "snap.GetPageRank(SmallGraph, PRankH)\n",
    "for item in PRankH:\n",
    "    print item, PRankH[item]"
   ]
  },
  {
   "cell_type": "markdown",
   "metadata": {},
   "source": [
    "从上面结果看出来，节点2，0最重要，其中节点2,0都有4条边。由此大概可猜测节点的边越多，该节点越重要。"
   ]
  },
  {
   "cell_type": "code",
   "execution_count": 25,
   "metadata": {},
   "outputs": [
    {
     "name": "stdout",
     "output_type": "stream",
     "text": [
      "triads 3\n",
      "clustering coefficient 0.314814814815\n"
     ]
    }
   ],
   "source": [
    "# Analyze connectivity among the neighbors\n",
    "Triads = snap.GetTriads(SmallGraph)\n",
    "print \"triads\", Triads\n",
    "\n",
    "CC = snap.GetClustCf(SmallGraph)\n",
    "print \"clustering coefficient\", CC"
   ]
  },
  {
   "cell_type": "code",
   "execution_count": 26,
   "metadata": {},
   "outputs": [
    {
     "name": "stdout",
     "output_type": "stream",
     "text": [
      "Community: \n",
      "0\n",
      "1\n",
      "2\n",
      "4\n",
      "Community: \n",
      "3\n",
      "5\n",
      "Community: \n",
      "6\n",
      "Community: \n",
      "7\n",
      "Community: \n",
      "8\n",
      "The modularity of the network is 0.067901\n"
     ]
    }
   ],
   "source": [
    "# Identify communities of nodes\n",
    "CmtyV = snap.TCnComV()\n",
    "modularity = snap.CommunityCNM(SmallGraph, CmtyV)\n",
    "for Cmty in CmtyV:\n",
    "    print \"Community: \"\n",
    "    for NI in Cmty:\n",
    "        print NI\n",
    "print \"The modularity of the network is %f\" % modularity"
   ]
  },
  {
   "cell_type": "code",
   "execution_count": null,
   "metadata": {},
   "outputs": [],
   "source": []
  }
 ],
 "metadata": {
  "kernelspec": {
   "display_name": "Python 3",
   "language": "python",
   "name": "python3"
  },
  "language_info": {
   "codemirror_mode": {
    "name": "ipython",
    "version": 3
   },
   "file_extension": ".py",
   "mimetype": "text/x-python",
   "name": "python",
   "nbconvert_exporter": "python",
   "pygments_lexer": "ipython3",
   "version": "3.6.4"
  }
 },
 "nbformat": 4,
 "nbformat_minor": 2
}
