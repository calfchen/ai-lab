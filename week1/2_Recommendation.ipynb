{
 "cells": [
  {
   "cell_type": "markdown",
   "metadata": {},
   "source": [
    "## 1 导入常用库"
   ]
  },
  {
   "cell_type": "code",
   "execution_count": 1,
   "metadata": {},
   "outputs": [],
   "source": [
    "import numpy as np\n",
    "import pandas as pd\n",
    "import matplotlib.pyplot as plt\n",
    "%matplotlib inline\n",
    "\n",
    "import seaborn as sns\n",
    "sns.set()\n",
    "pal = sns.color_palette(\"Set2\", 2)"
   ]
  },
  {
   "cell_type": "markdown",
   "metadata": {},
   "source": [
    "## 2 读入文件\n",
    "\n",
    "由于 ml-20m 文件，在下面第3步 构造 user-item matrix 时，内存错误，因此改为使用 ml-100k数据\n",
    "\n",
    "[ml-100k](http://files.grouplens.org/datasets/movielens/ml-100k.zip)"
   ]
  },
  {
   "cell_type": "code",
   "execution_count": 2,
   "metadata": {},
   "outputs": [
    {
     "name": "stdout",
     "output_type": "stream",
     "text": [
      "/home/chenxl/ai-lab/ml-100k\n"
     ]
    }
   ],
   "source": [
    "cd ../ml-100k/"
   ]
  },
  {
   "cell_type": "code",
   "execution_count": 3,
   "metadata": {},
   "outputs": [
    {
     "name": "stdout",
     "output_type": "stream",
     "text": [
      "\u001b[0m\u001b[01;32mallbut.pl\u001b[0m*  u1.base  u2.test  u4.base  u5.test  ub.base  u.genre  u.occupation\r\n",
      "\u001b[01;32mmku.sh\u001b[0m*     u1.test  u3.base  u4.test  ua.base  ub.test  u.info   u.user\r\n",
      "README      u2.base  u3.test  u5.base  ua.test  u.data   u.item\r\n"
     ]
    }
   ],
   "source": [
    "ls"
   ]
  },
  {
   "cell_type": "code",
   "execution_count": 4,
   "metadata": {},
   "outputs": [
    {
     "data": {
      "text/html": [
       "<div>\n",
       "<style scoped>\n",
       "    .dataframe tbody tr th:only-of-type {\n",
       "        vertical-align: middle;\n",
       "    }\n",
       "\n",
       "    .dataframe tbody tr th {\n",
       "        vertical-align: top;\n",
       "    }\n",
       "\n",
       "    .dataframe thead th {\n",
       "        text-align: right;\n",
       "    }\n",
       "</style>\n",
       "<table border=\"1\" class=\"dataframe\">\n",
       "  <thead>\n",
       "    <tr style=\"text-align: right;\">\n",
       "      <th></th>\n",
       "      <th>user_id</th>\n",
       "      <th>item_id</th>\n",
       "      <th>rating</th>\n",
       "      <th>timestamp</th>\n",
       "    </tr>\n",
       "  </thead>\n",
       "  <tbody>\n",
       "    <tr>\n",
       "      <th>0</th>\n",
       "      <td>196</td>\n",
       "      <td>242</td>\n",
       "      <td>3</td>\n",
       "      <td>881250949</td>\n",
       "    </tr>\n",
       "    <tr>\n",
       "      <th>1</th>\n",
       "      <td>186</td>\n",
       "      <td>302</td>\n",
       "      <td>3</td>\n",
       "      <td>891717742</td>\n",
       "    </tr>\n",
       "    <tr>\n",
       "      <th>2</th>\n",
       "      <td>22</td>\n",
       "      <td>377</td>\n",
       "      <td>1</td>\n",
       "      <td>878887116</td>\n",
       "    </tr>\n",
       "    <tr>\n",
       "      <th>3</th>\n",
       "      <td>244</td>\n",
       "      <td>51</td>\n",
       "      <td>2</td>\n",
       "      <td>880606923</td>\n",
       "    </tr>\n",
       "    <tr>\n",
       "      <th>4</th>\n",
       "      <td>166</td>\n",
       "      <td>346</td>\n",
       "      <td>1</td>\n",
       "      <td>886397596</td>\n",
       "    </tr>\n",
       "  </tbody>\n",
       "</table>\n",
       "</div>"
      ],
      "text/plain": [
       "   user_id  item_id  rating  timestamp\n",
       "0      196      242       3  881250949\n",
       "1      186      302       3  891717742\n",
       "2       22      377       1  878887116\n",
       "3      244       51       2  880606923\n",
       "4      166      346       1  886397596"
      ]
     },
     "execution_count": 4,
     "metadata": {},
     "output_type": "execute_result"
    }
   ],
   "source": [
    "names = ['user_id', 'item_id', 'rating', 'timestamp']\n",
    "df = pd.read_csv('u.data', sep='\\t', names=names)\n",
    "df.head()"
   ]
  },
  {
   "cell_type": "code",
   "execution_count": 5,
   "metadata": {},
   "outputs": [
    {
     "name": "stdout",
     "output_type": "stream",
     "text": [
      "943  users\n",
      "1682  items\n",
      "max_item_id  943\n",
      "max_item_id  1682\n"
     ]
    }
   ],
   "source": [
    "n_users = df.user_id.nunique()\n",
    "n_items = df.item_id.nunique()\n",
    "print(n_users,' users')\n",
    "print(n_items,' items')\n",
    "\n",
    "max_user_id = df.user_id.max()\n",
    "max_item_id = df.item_id.max()\n",
    "print('max_item_id ',max_user_id)\n",
    "print('max_item_id ',max_item_id)"
   ]
  },
  {
   "cell_type": "code",
   "execution_count": 6,
   "metadata": {},
   "outputs": [
    {
     "name": "stdout",
     "output_type": "stream",
     "text": [
      "SUMMARY & USAGE LICENSE\r\n",
      "=============================================\r\n",
      "\r\n",
      "MovieLens data sets were collected by the GroupLens Research Project\r\n",
      "at the University of Minnesota.\r\n",
      " \r\n",
      "This data set consists of:\r\n",
      "\t* 100,000 ratings (1-5) from 943 users on 1682 movies. \r\n",
      "\t* Each user has rated at least 20 movies. \r\n",
      "        * Simple demographic info for the users (age, gender, occupation, zip)\r\n",
      "\r\n",
      "The data was collected through the MovieLens web site\r\n",
      "(movielens.umn.edu) during the seven-month period from September 19th, \r\n",
      "1997 through April 22nd, 1998. This data has been cleaned up - users\r\n",
      "who had less than 20 ratings or did not have complete demographic\r\n",
      "information were removed from this data set. Detailed descriptions of\r\n",
      "the data file can be found at the end of this file.\r\n",
      "\r\n",
      "Neither the University of Minnesota nor any of the researchers\r\n",
      "involved can guarantee the correctness of the data, its suitability\r\n",
      "for any particular purpose, or the validity of results based on the\r\n",
      "use of the data set.  The data set may be used for any research\r\n",
      "purposes under the following conditions:\r\n",
      "\r\n",
      "     * The user may not state or imply any endorsement from the\r\n",
      "       University of Minnesota or the GroupLens Research Group.\r\n",
      "\r\n",
      "     * The user must acknowledge the use of the data set in\r\n",
      "       publications resulting from the use of the data set\r\n",
      "       (see below for citation information).\r\n",
      "\r\n",
      "     * The user may not redistribute the data without separate\r\n",
      "       permission.\r\n",
      "\r\n",
      "     * The user may not use this information for any commercial or\r\n",
      "       revenue-bearing purposes without first obtaining permission\r\n",
      "       from a faculty member of the GroupLens Research Project at the\r\n",
      "       University of Minnesota.\r\n",
      "\r\n",
      "If you have any further questions or comments, please contact GroupLens\r\n",
      "<grouplens-info@cs.umn.edu>. \r\n",
      "\r\n",
      "CITATION\r\n",
      "==============================================\r\n",
      "\r\n",
      "To acknowledge use of the dataset in publications, please cite the \r\n",
      "following paper:\r\n",
      "\r\n",
      "F. Maxwell Harper and Joseph A. Konstan. 2015. The MovieLens Datasets:\r\n",
      "History and Context. ACM Transactions on Interactive Intelligent\r\n",
      "Systems (TiiS) 5, 4, Article 19 (December 2015), 19 pages.\r\n",
      "DOI=http://dx.doi.org/10.1145/2827872\r\n",
      "\r\n",
      "\r\n",
      "ACKNOWLEDGEMENTS\r\n",
      "==============================================\r\n",
      "\r\n",
      "Thanks to Al Borchers for cleaning up this data and writing the\r\n",
      "accompanying scripts.\r\n",
      "\r\n",
      "PUBLISHED WORK THAT HAS USED THIS DATASET\r\n",
      "==============================================\r\n",
      "\r\n",
      "Herlocker, J., Konstan, J., Borchers, A., Riedl, J.. An Algorithmic\r\n",
      "Framework for Performing Collaborative Filtering. Proceedings of the\r\n",
      "1999 Conference on Research and Development in Information\r\n",
      "Retrieval. Aug. 1999.\r\n",
      "\r\n",
      "FURTHER INFORMATION ABOUT THE GROUPLENS RESEARCH PROJECT\r\n",
      "==============================================\r\n",
      "\r\n",
      "The GroupLens Research Project is a research group in the Department\r\n",
      "of Computer Science and Engineering at the University of Minnesota.\r\n",
      "Members of the GroupLens Research Project are involved in many\r\n",
      "research projects related to the fields of information filtering,\r\n",
      "collaborative filtering, and recommender systems. The project is lead\r\n",
      "by professors John Riedl and Joseph Konstan. The project began to\r\n",
      "explore automated collaborative filtering in 1992, but is most well\r\n",
      "known for its world wide trial of an automated collaborative filtering\r\n",
      "system for Usenet news in 1996.  The technology developed in the\r\n",
      "Usenet trial formed the base for the formation of Net Perceptions,\r\n",
      "Inc., which was founded by members of GroupLens Research. Since then\r\n",
      "the project has expanded its scope to research overall information\r\n",
      "filtering solutions, integrating in content-based methods as well as\r\n",
      "improving current collaborative filtering technology.\r\n",
      "\r\n",
      "Further information on the GroupLens Research project, including\r\n",
      "research publications, can be found at the following web site:\r\n",
      "        \r\n",
      "        http://www.grouplens.org/\r\n",
      "\r\n",
      "GroupLens Research currently operates a movie recommender based on\r\n",
      "collaborative filtering:\r\n",
      "\r\n",
      "        http://www.movielens.org/\r\n",
      "\r\n",
      "DETAILED DESCRIPTIONS OF DATA FILES\r\n",
      "==============================================\r\n",
      "\r\n",
      "Here are brief descriptions of the data.\r\n",
      "\r\n",
      "ml-data.tar.gz   -- Compressed tar file.  To rebuild the u data files do this:\r\n",
      "                gunzip ml-data.tar.gz\r\n",
      "                tar xvf ml-data.tar\r\n",
      "                mku.sh\r\n",
      "\r\n",
      "u.data     -- The full u data set, 100000 ratings by 943 users on 1682 items.\r\n",
      "              Each user has rated at least 20 movies.  Users and items are\r\n",
      "              numbered consecutively from 1.  The data is randomly\r\n",
      "              ordered. This is a tab separated list of \r\n",
      "\t         user id | item id | rating | timestamp. \r\n",
      "              The time stamps are unix seconds since 1/1/1970 UTC   \r\n",
      "\r\n",
      "u.info     -- The number of users, items, and ratings in the u data set.\r\n",
      "\r\n",
      "u.item     -- Information about the items (movies); this is a tab separated\r\n",
      "              list of\r\n",
      "              movie id | movie title | release date | video release date |\r\n",
      "              IMDb URL | unknown | Action | Adventure | Animation |\r\n",
      "              Children's | Comedy | Crime | Documentary | Drama | Fantasy |\r\n",
      "              Film-Noir | Horror | Musical | Mystery | Romance | Sci-Fi |\r\n",
      "              Thriller | War | Western |\r\n",
      "              The last 19 fields are the genres, a 1 indicates the movie\r\n",
      "              is of that genre, a 0 indicates it is not; movies can be in\r\n",
      "              several genres at once.\r\n",
      "              The movie ids are the ones used in the u.data data set.\r\n",
      "\r\n",
      "u.genre    -- A list of the genres.\r\n",
      "\r\n",
      "u.user     -- Demographic information about the users; this is a tab\r\n",
      "              separated list of\r\n",
      "              user id | age | gender | occupation | zip code\r\n",
      "              The user ids are the ones used in the u.data data set.\r\n",
      "\r\n",
      "u.occupation -- A list of the occupations.\r\n",
      "\r\n",
      "u1.base    -- The data sets u1.base and u1.test through u5.base and u5.test\r\n",
      "u1.test       are 80%/20% splits of the u data into training and test data.\r\n",
      "u2.base       Each of u1, ..., u5 have disjoint test sets; this if for\r\n",
      "u2.test       5 fold cross validation (where you repeat your experiment\r\n",
      "u3.base       with each training and test set and average the results).\r\n",
      "u3.test       These data sets can be generated from u.data by mku.sh.\r\n",
      "u4.base\r\n",
      "u4.test\r\n",
      "u5.base\r\n",
      "u5.test\r\n",
      "\r\n",
      "ua.base    -- The data sets ua.base, ua.test, ub.base, and ub.test\r\n",
      "ua.test       split the u data into a training set and a test set with\r\n",
      "ub.base       exactly 10 ratings per user in the test set.  The sets\r\n",
      "ub.test       ua.test and ub.test are disjoint.  These data sets can\r\n",
      "              be generated from u.data by mku.sh.\r\n",
      "\r\n",
      "allbut.pl  -- The script that generates training and test sets where\r\n",
      "              all but n of a users ratings are in the training data.\r\n",
      "\r\n",
      "mku.sh     -- A shell script to generate all the u data sets from u.data.\r\n"
     ]
    }
   ],
   "source": [
    "cat README"
   ]
  },
  {
   "cell_type": "code",
   "execution_count": 7,
   "metadata": {},
   "outputs": [
    {
     "name": "stdout",
     "output_type": "stream",
     "text": [
      "943 users\r\n",
      "1682 items\r\n",
      "100000 ratings\r\n"
     ]
    }
   ],
   "source": [
    "cat u.info"
   ]
  },
  {
   "cell_type": "markdown",
   "metadata": {},
   "source": [
    "## 3 Content-based recommendations (Content)\n",
    "\n",
    "通过上面的 README 文件，可以看出来 u.info 里面记录了用户，电影和评分的数，总计有1682个电影。从 u.item 中可以知道每个电影有 19 个字段来确定电影的属性。因此，可以构建电影属性的矩阵为 (1682*19)，然后计算电影的相似性来为用户推荐。"
   ]
  },
  {
   "cell_type": "code",
   "execution_count": 8,
   "metadata": {},
   "outputs": [
    {
     "data": {
      "text/html": [
       "<div>\n",
       "<style scoped>\n",
       "    .dataframe tbody tr th:only-of-type {\n",
       "        vertical-align: middle;\n",
       "    }\n",
       "\n",
       "    .dataframe tbody tr th {\n",
       "        vertical-align: top;\n",
       "    }\n",
       "\n",
       "    .dataframe thead th {\n",
       "        text-align: right;\n",
       "    }\n",
       "</style>\n",
       "<table border=\"1\" class=\"dataframe\">\n",
       "  <thead>\n",
       "    <tr style=\"text-align: right;\">\n",
       "      <th></th>\n",
       "      <th>movie id</th>\n",
       "      <th>movie title</th>\n",
       "      <th>release date</th>\n",
       "      <th>video release date</th>\n",
       "      <th>IMDb URL</th>\n",
       "      <th>unknown</th>\n",
       "      <th>Action</th>\n",
       "      <th>Adventure</th>\n",
       "      <th>Animation</th>\n",
       "      <th>Children</th>\n",
       "      <th>...</th>\n",
       "      <th>Fantasy</th>\n",
       "      <th>Film-Noir</th>\n",
       "      <th>Horror</th>\n",
       "      <th>Musical</th>\n",
       "      <th>Mystery</th>\n",
       "      <th>Romance</th>\n",
       "      <th>Sci-Fi</th>\n",
       "      <th>Thriller</th>\n",
       "      <th>War</th>\n",
       "      <th>Western</th>\n",
       "    </tr>\n",
       "  </thead>\n",
       "  <tbody>\n",
       "    <tr>\n",
       "      <th>0</th>\n",
       "      <td>1</td>\n",
       "      <td>Toy Story (1995)</td>\n",
       "      <td>01-Jan-1995</td>\n",
       "      <td>NaN</td>\n",
       "      <td>http://us.imdb.com/M/title-exact?Toy%20Story%2...</td>\n",
       "      <td>0</td>\n",
       "      <td>0</td>\n",
       "      <td>0</td>\n",
       "      <td>1</td>\n",
       "      <td>1</td>\n",
       "      <td>...</td>\n",
       "      <td>0</td>\n",
       "      <td>0</td>\n",
       "      <td>0</td>\n",
       "      <td>0</td>\n",
       "      <td>0</td>\n",
       "      <td>0</td>\n",
       "      <td>0</td>\n",
       "      <td>0</td>\n",
       "      <td>0</td>\n",
       "      <td>0</td>\n",
       "    </tr>\n",
       "    <tr>\n",
       "      <th>1</th>\n",
       "      <td>2</td>\n",
       "      <td>GoldenEye (1995)</td>\n",
       "      <td>01-Jan-1995</td>\n",
       "      <td>NaN</td>\n",
       "      <td>http://us.imdb.com/M/title-exact?GoldenEye%20(...</td>\n",
       "      <td>0</td>\n",
       "      <td>1</td>\n",
       "      <td>1</td>\n",
       "      <td>0</td>\n",
       "      <td>0</td>\n",
       "      <td>...</td>\n",
       "      <td>0</td>\n",
       "      <td>0</td>\n",
       "      <td>0</td>\n",
       "      <td>0</td>\n",
       "      <td>0</td>\n",
       "      <td>0</td>\n",
       "      <td>0</td>\n",
       "      <td>1</td>\n",
       "      <td>0</td>\n",
       "      <td>0</td>\n",
       "    </tr>\n",
       "    <tr>\n",
       "      <th>2</th>\n",
       "      <td>3</td>\n",
       "      <td>Four Rooms (1995)</td>\n",
       "      <td>01-Jan-1995</td>\n",
       "      <td>NaN</td>\n",
       "      <td>http://us.imdb.com/M/title-exact?Four%20Rooms%...</td>\n",
       "      <td>0</td>\n",
       "      <td>0</td>\n",
       "      <td>0</td>\n",
       "      <td>0</td>\n",
       "      <td>0</td>\n",
       "      <td>...</td>\n",
       "      <td>0</td>\n",
       "      <td>0</td>\n",
       "      <td>0</td>\n",
       "      <td>0</td>\n",
       "      <td>0</td>\n",
       "      <td>0</td>\n",
       "      <td>0</td>\n",
       "      <td>1</td>\n",
       "      <td>0</td>\n",
       "      <td>0</td>\n",
       "    </tr>\n",
       "    <tr>\n",
       "      <th>3</th>\n",
       "      <td>4</td>\n",
       "      <td>Get Shorty (1995)</td>\n",
       "      <td>01-Jan-1995</td>\n",
       "      <td>NaN</td>\n",
       "      <td>http://us.imdb.com/M/title-exact?Get%20Shorty%...</td>\n",
       "      <td>0</td>\n",
       "      <td>1</td>\n",
       "      <td>0</td>\n",
       "      <td>0</td>\n",
       "      <td>0</td>\n",
       "      <td>...</td>\n",
       "      <td>0</td>\n",
       "      <td>0</td>\n",
       "      <td>0</td>\n",
       "      <td>0</td>\n",
       "      <td>0</td>\n",
       "      <td>0</td>\n",
       "      <td>0</td>\n",
       "      <td>0</td>\n",
       "      <td>0</td>\n",
       "      <td>0</td>\n",
       "    </tr>\n",
       "    <tr>\n",
       "      <th>4</th>\n",
       "      <td>5</td>\n",
       "      <td>Copycat (1995)</td>\n",
       "      <td>01-Jan-1995</td>\n",
       "      <td>NaN</td>\n",
       "      <td>http://us.imdb.com/M/title-exact?Copycat%20(1995)</td>\n",
       "      <td>0</td>\n",
       "      <td>0</td>\n",
       "      <td>0</td>\n",
       "      <td>0</td>\n",
       "      <td>0</td>\n",
       "      <td>...</td>\n",
       "      <td>0</td>\n",
       "      <td>0</td>\n",
       "      <td>0</td>\n",
       "      <td>0</td>\n",
       "      <td>0</td>\n",
       "      <td>0</td>\n",
       "      <td>0</td>\n",
       "      <td>1</td>\n",
       "      <td>0</td>\n",
       "      <td>0</td>\n",
       "    </tr>\n",
       "  </tbody>\n",
       "</table>\n",
       "<p>5 rows × 24 columns</p>\n",
       "</div>"
      ],
      "text/plain": [
       "   movie id        movie title release date  video release date  \\\n",
       "0         1   Toy Story (1995)  01-Jan-1995                 NaN   \n",
       "1         2   GoldenEye (1995)  01-Jan-1995                 NaN   \n",
       "2         3  Four Rooms (1995)  01-Jan-1995                 NaN   \n",
       "3         4  Get Shorty (1995)  01-Jan-1995                 NaN   \n",
       "4         5     Copycat (1995)  01-Jan-1995                 NaN   \n",
       "\n",
       "                                            IMDb URL  unknown  Action  \\\n",
       "0  http://us.imdb.com/M/title-exact?Toy%20Story%2...        0       0   \n",
       "1  http://us.imdb.com/M/title-exact?GoldenEye%20(...        0       1   \n",
       "2  http://us.imdb.com/M/title-exact?Four%20Rooms%...        0       0   \n",
       "3  http://us.imdb.com/M/title-exact?Get%20Shorty%...        0       1   \n",
       "4  http://us.imdb.com/M/title-exact?Copycat%20(1995)        0       0   \n",
       "\n",
       "   Adventure  Animation  Children   ...     Fantasy  Film-Noir  Horror  \\\n",
       "0          0          1         1   ...           0          0       0   \n",
       "1          1          0         0   ...           0          0       0   \n",
       "2          0          0         0   ...           0          0       0   \n",
       "3          0          0         0   ...           0          0       0   \n",
       "4          0          0         0   ...           0          0       0   \n",
       "\n",
       "   Musical  Mystery  Romance  Sci-Fi  Thriller  War  Western  \n",
       "0        0        0        0       0         0    0        0  \n",
       "1        0        0        0       0         1    0        0  \n",
       "2        0        0        0       0         1    0        0  \n",
       "3        0        0        0       0         0    0        0  \n",
       "4        0        0        0       0         1    0        0  \n",
       "\n",
       "[5 rows x 24 columns]"
      ]
     },
     "execution_count": 8,
     "metadata": {},
     "output_type": "execute_result"
    }
   ],
   "source": [
    "names = ['movie id', 'movie title', 'release date', 'video release date', 'IMDb URL',\\\n",
    "                'unknown', 'Action', 'Adventure', 'Animation', 'Children', 'Comedy', 'Crime', 'Documentary', 'Drama',\\\n",
    "                'Fantasy', 'Film-Noir', 'Horror', 'Musical', 'Mystery', 'Romance', 'Sci-Fi', 'Thriller', 'War', 'Western']\n",
    "df_item = pd.read_csv('u.item', sep='|', names=names, engine='python')\n",
    "df_item.head()"
   ]
  },
  {
   "cell_type": "code",
   "execution_count": 9,
   "metadata": {},
   "outputs": [
    {
     "name": "stdout",
     "output_type": "stream",
     "text": [
      "(1682, 24)\n"
     ]
    }
   ],
   "source": [
    "print(df_item.shape)"
   ]
  },
  {
   "cell_type": "code",
   "execution_count": 10,
   "metadata": {},
   "outputs": [
    {
     "name": "stdout",
     "output_type": "stream",
     "text": [
      "(1682, 19)\n"
     ]
    }
   ],
   "source": [
    "# 构建电影相似矩阵\n",
    "movie_matrix = df_item[['unknown', 'Action', 'Adventure', 'Animation', 'Children', 'Comedy', 'Crime', 'Documentary', 'Drama',\\\n",
    "                                      'Fantasy', 'Film-Noir', 'Horror', 'Musical', 'Mystery', 'Romance', 'Sci-Fi', 'Thriller', 'War', 'Western']].values.reshape(1682,19)\n",
    "print(movie_matrix.shape)"
   ]
  },
  {
   "cell_type": "code",
   "execution_count": 11,
   "metadata": {},
   "outputs": [
    {
     "name": "stdout",
     "output_type": "stream",
     "text": [
      "cosine_sim.shape :  (1682, 1682)\n",
      "[[1.         0.         0.         ... 0.         0.57735027 0.        ]\n",
      " [0.         1.         0.57735027 ... 0.         0.         0.        ]\n",
      " [0.         0.57735027 1.         ... 0.         0.         0.        ]\n",
      " ...\n",
      " [0.         0.         0.         ... 1.         0.         0.70710678]\n",
      " [0.57735027 0.         0.         ... 0.         1.         0.        ]\n",
      " [0.         0.         0.         ... 0.70710678 0.         1.        ]]\n"
     ]
    }
   ],
   "source": [
    "# 计算余弦相似度\n",
    "from sklearn.metrics.pairwise import cosine_similarity\n",
    "cosine_sim = cosine_similarity(movie_matrix)\n",
    "print(\"cosine_sim.shape : \", cosine_sim.shape)\n",
    "print(cosine_sim)"
   ]
  },
  {
   "cell_type": "markdown",
   "metadata": {},
   "source": [
    "从 df_item 可以看出第一部电影是 Toy Story (1995)，下面查看和 Toy Story (1995) 最相似的 K 部电影，肉眼鉴定一下是否合理。"
   ]
  },
  {
   "cell_type": "code",
   "execution_count": 12,
   "metadata": {},
   "outputs": [
    {
     "name": "stdout",
     "output_type": "stream",
     "text": [
      "[1.         0.         0.         ... 0.         0.57735027 0.        ]\n",
      "[   0  421 1218 ...  672  670 1681]\n"
     ]
    }
   ],
   "source": [
    "sim = cosine_sim[0]\n",
    "print(sim)\n",
    "sim_index = np.argsort(-sim) \n",
    "print(sim_index)"
   ]
  },
  {
   "cell_type": "code",
   "execution_count": 13,
   "metadata": {},
   "outputs": [
    {
     "name": "stdout",
     "output_type": "stream",
     "text": [
      "[ 422 1219   95 1078 1470  240  969  377  477  996]\n"
     ]
    }
   ],
   "source": [
    "K_sim_index = sim_index[1:11] + 1\n",
    "print(K_sim_index)"
   ]
  },
  {
   "cell_type": "code",
   "execution_count": 14,
   "metadata": {},
   "outputs": [],
   "source": [
    "# 基于内容推荐Top10,  输入movieId\n",
    "def get_recommendations(df_item, movieId, cosine_sim, K):\n",
    "    sim = cosine_sim[movieId - 1]    # 找出该 movieId 对应的向量\n",
    "    sim_index = np.argsort(-sim)             # 排序找到最相关的索引\n",
    "    K_sim_index = sim_index[:K+1] + 1\n",
    "    res = df_item[df_item['movie id'].isin(K_sim_index)]\n",
    "    return res"
   ]
  },
  {
   "cell_type": "code",
   "execution_count": 15,
   "metadata": {},
   "outputs": [
    {
     "data": {
      "text/html": [
       "<div>\n",
       "<style scoped>\n",
       "    .dataframe tbody tr th:only-of-type {\n",
       "        vertical-align: middle;\n",
       "    }\n",
       "\n",
       "    .dataframe tbody tr th {\n",
       "        vertical-align: top;\n",
       "    }\n",
       "\n",
       "    .dataframe thead th {\n",
       "        text-align: right;\n",
       "    }\n",
       "</style>\n",
       "<table border=\"1\" class=\"dataframe\">\n",
       "  <thead>\n",
       "    <tr style=\"text-align: right;\">\n",
       "      <th></th>\n",
       "      <th>movie id</th>\n",
       "      <th>movie title</th>\n",
       "      <th>release date</th>\n",
       "    </tr>\n",
       "  </thead>\n",
       "  <tbody>\n",
       "    <tr>\n",
       "      <th>0</th>\n",
       "      <td>1</td>\n",
       "      <td>Toy Story (1995)</td>\n",
       "      <td>01-Jan-1995</td>\n",
       "    </tr>\n",
       "    <tr>\n",
       "      <th>94</th>\n",
       "      <td>95</td>\n",
       "      <td>Aladdin (1992)</td>\n",
       "      <td>01-Jan-1992</td>\n",
       "    </tr>\n",
       "    <tr>\n",
       "      <th>239</th>\n",
       "      <td>240</td>\n",
       "      <td>Beavis and Butt-head Do America (1996)</td>\n",
       "      <td>20-Dec-1996</td>\n",
       "    </tr>\n",
       "    <tr>\n",
       "      <th>376</th>\n",
       "      <td>377</td>\n",
       "      <td>Heavyweights (1994)</td>\n",
       "      <td>01-Jan-1994</td>\n",
       "    </tr>\n",
       "    <tr>\n",
       "      <th>421</th>\n",
       "      <td>422</td>\n",
       "      <td>Aladdin and the King of Thieves (1996)</td>\n",
       "      <td>01-Jan-1996</td>\n",
       "    </tr>\n",
       "    <tr>\n",
       "      <th>476</th>\n",
       "      <td>477</td>\n",
       "      <td>Matilda (1996)</td>\n",
       "      <td>02-Aug-1996</td>\n",
       "    </tr>\n",
       "    <tr>\n",
       "      <th>968</th>\n",
       "      <td>969</td>\n",
       "      <td>Winnie the Pooh and the Blustery Day (1968)</td>\n",
       "      <td>01-Jan-1968</td>\n",
       "    </tr>\n",
       "    <tr>\n",
       "      <th>995</th>\n",
       "      <td>996</td>\n",
       "      <td>Big Green, The (1995)</td>\n",
       "      <td>01-Jan-1995</td>\n",
       "    </tr>\n",
       "    <tr>\n",
       "      <th>1077</th>\n",
       "      <td>1078</td>\n",
       "      <td>Oliver &amp; Company (1988)</td>\n",
       "      <td>29-Mar-1988</td>\n",
       "    </tr>\n",
       "    <tr>\n",
       "      <th>1218</th>\n",
       "      <td>1219</td>\n",
       "      <td>Goofy Movie, A (1995)</td>\n",
       "      <td>01-Jan-1995</td>\n",
       "    </tr>\n",
       "    <tr>\n",
       "      <th>1469</th>\n",
       "      <td>1470</td>\n",
       "      <td>Gumby: The Movie (1995)</td>\n",
       "      <td>01-Jan-1995</td>\n",
       "    </tr>\n",
       "  </tbody>\n",
       "</table>\n",
       "</div>"
      ],
      "text/plain": [
       "      movie id                                  movie title release date\n",
       "0            1                             Toy Story (1995)  01-Jan-1995\n",
       "94          95                               Aladdin (1992)  01-Jan-1992\n",
       "239        240       Beavis and Butt-head Do America (1996)  20-Dec-1996\n",
       "376        377                          Heavyweights (1994)  01-Jan-1994\n",
       "421        422       Aladdin and the King of Thieves (1996)  01-Jan-1996\n",
       "476        477                               Matilda (1996)  02-Aug-1996\n",
       "968        969  Winnie the Pooh and the Blustery Day (1968)  01-Jan-1968\n",
       "995        996                        Big Green, The (1995)  01-Jan-1995\n",
       "1077      1078                      Oliver & Company (1988)  29-Mar-1988\n",
       "1218      1219                        Goofy Movie, A (1995)  01-Jan-1995\n",
       "1469      1470                      Gumby: The Movie (1995)  01-Jan-1995"
      ]
     },
     "execution_count": 15,
     "metadata": {},
     "output_type": "execute_result"
    }
   ],
   "source": [
    "res_1 = get_recommendations(df_item, 1, cosine_sim, 10)\n",
    "res_1[['movie id', 'movie title', 'release date']]"
   ]
  },
  {
   "cell_type": "markdown",
   "metadata": {},
   "source": [
    "- 通过这种方式，就找到了和 Toy Story (1995) 最相似的 10 部电影。\n",
    "- 在做推荐的时候，如果某个用户点看了 Toy Story (1995)，则推荐该用户下面的10部电影，则大概率会推荐成功。"
   ]
  },
  {
   "cell_type": "markdown",
   "metadata": {},
   "source": [
    "## 4 协同过滤方法 CF\n",
    "\n",
    "主要参考自博客：[Intro to Recommender Systems: Collaborative Filtering](http://blog.ethanrosenthal.com/2015/11/02/intro-to-collaborative-filtering/)\n",
    "\n",
    "### 4.1 构造 user-item matrix"
   ]
  },
  {
   "cell_type": "code",
   "execution_count": 16,
   "metadata": {},
   "outputs": [
    {
     "name": "stdout",
     "output_type": "stream",
     "text": [
      "Pandas(Index=0, user_id=196, item_id=242, rating=3, timestamp=881250949) 195\n",
      "Pandas(Index=1, user_id=186, item_id=302, rating=3, timestamp=891717742) 185\n",
      "Pandas(Index=2, user_id=22, item_id=377, rating=1, timestamp=878887116) 21\n",
      "Pandas(Index=3, user_id=244, item_id=51, rating=2, timestamp=880606923) 243\n",
      "Pandas(Index=4, user_id=166, item_id=346, rating=1, timestamp=886397596) 165\n",
      "Pandas(Index=5, user_id=298, item_id=474, rating=4, timestamp=884182806) 297\n"
     ]
    }
   ],
   "source": [
    "i = 0\n",
    "for row in df.itertuples():\n",
    "    i = i+1\n",
    "    print(row, row[1]-1)\n",
    "    if(i > 5):\n",
    "        break"
   ]
  },
  {
   "cell_type": "code",
   "execution_count": 17,
   "metadata": {},
   "outputs": [
    {
     "name": "stdout",
     "output_type": "stream",
     "text": [
      "ratings :\n",
      " [[5. 3. 4. ... 0. 0. 0.]\n",
      " [4. 0. 0. ... 0. 0. 0.]\n",
      " [0. 0. 0. ... 0. 0. 0.]\n",
      " ...\n",
      " [5. 0. 0. ... 0. 0. 0.]\n",
      " [0. 0. 0. ... 0. 0. 0.]\n",
      " [0. 5. 0. ... 0. 0. 0.]]\n",
      "ratings shape :  (943, 1682)\n"
     ]
    }
   ],
   "source": [
    "ratings = np.zeros((n_users, n_items))\n",
    "for row in df.itertuples():\n",
    "    ratings[row[1]-1, row[2]-1] = row[3]\n",
    "print('ratings :\\n',ratings)\n",
    "print(\"ratings shape : \", ratings.shape)"
   ]
  },
  {
   "cell_type": "markdown",
   "metadata": {},
   "source": [
    "此文件的user_id 和 item_id 都是从下到大进行排列的.\n",
    "\n",
    "如果不是这样，则需要将 user_id，item_id 映射到 0-n, 0-m的形式."
   ]
  },
  {
   "cell_type": "code",
   "execution_count": 18,
   "metadata": {},
   "outputs": [
    {
     "name": "stdout",
     "output_type": "stream",
     "text": [
      "Sparsity: 6.30%\n"
     ]
    }
   ],
   "source": [
    "sparsity = float(len(ratings.nonzero()[0]))\n",
    "sparsity /= (ratings.shape[0] * ratings.shape[1])\n",
    "sparsity *= 100\n",
    "print('Sparsity: {:4.2f}%'.format(sparsity))"
   ]
  },
  {
   "cell_type": "markdown",
   "metadata": {},
   "source": [
    "### 4.2 划分数据"
   ]
  },
  {
   "cell_type": "code",
   "execution_count": 19,
   "metadata": {},
   "outputs": [],
   "source": [
    "def train_test_split(ratings):\n",
    "    test = np.zeros(ratings.shape)\n",
    "    train = ratings.copy()\n",
    "    for user in range(ratings.shape[0]):\n",
    "        test_ratings = np.random.choice(ratings[user, :].nonzero()[0], \n",
    "                                        size=10, \n",
    "                                        replace=False)\n",
    "        train[user, test_ratings] = 0.\n",
    "        test[user, test_ratings] = ratings[user, test_ratings]\n",
    "        \n",
    "    # Test and training are truly disjoint\n",
    "    assert(np.all((train * test) == 0)) \n",
    "    return train, test"
   ]
  },
  {
   "cell_type": "code",
   "execution_count": 20,
   "metadata": {},
   "outputs": [],
   "source": [
    "train, test = train_test_split(ratings)"
   ]
  },
  {
   "cell_type": "markdown",
   "metadata": {},
   "source": [
    "### 4.3 Collaborative filtering\n",
    "\n",
    "使用余弦相似性计算用户，或者物品之间的相似程度\n",
    "\n",
    "![](../picture/1.png)"
   ]
  },
  {
   "cell_type": "code",
   "execution_count": 21,
   "metadata": {},
   "outputs": [],
   "source": [
    "def similarity(ratings, kind='user', epsilon=1e-9):\n",
    "    # epsilon -> small number for handling dived-by-zero errors\n",
    "    if kind == 'user':\n",
    "        sim = ratings.dot(ratings.T) + epsilon\n",
    "    elif kind == 'item':\n",
    "        sim = ratings.T.dot(ratings) + epsilon\n",
    "    norms = np.array([np.sqrt(np.diagonal(sim))])\n",
    "    return (sim / norms / norms.T)"
   ]
  },
  {
   "cell_type": "code",
   "execution_count": 22,
   "metadata": {},
   "outputs": [
    {
     "name": "stdout",
     "output_type": "stream",
     "text": [
      "[[1.         0.40819118 0.30396375 0.44631284]\n",
      " [0.40819118 1.         0.25788574 0.50341975]\n",
      " [0.30396375 0.25788574 1.         0.31167117]\n",
      " [0.44631284 0.50341975 0.31167117 1.        ]]\n"
     ]
    }
   ],
   "source": [
    "user_similarity = similarity(train, kind='user')\n",
    "item_similarity = similarity(train, kind='item')\n",
    "print(item_similarity[:4, :4])"
   ]
  },
  {
   "cell_type": "markdown",
   "metadata": {},
   "source": [
    "### 4.4 预测\n",
    "\n",
    "- user-based：预测用户 u 对物品 i 的评分，通过用户 u 与其他用户 u' 之间的相似程度来加权评分。\n",
    "\n",
    "![](../picture/2.png)\n",
    "\n",
    "- item-based：预测用户 u 对物品 i 的评分，通过物品 i 与 其他物品 j; 之间的相似程度来加权评分。把式子左边的 sim(u,u') 变为对应的 sim(i,i')\n",
    "\n",
    "![](../picture/3.png)"
   ]
  },
  {
   "cell_type": "code",
   "execution_count": 23,
   "metadata": {},
   "outputs": [],
   "source": [
    "def predict(ratings, similarity, kind='user'):\n",
    "    if kind == 'user':\n",
    "        return similarity.dot(ratings) / np.array([np.abs(similarity).sum(axis=1)]).T\n",
    "    elif kind == 'item':\n",
    "        return ratings.dot(similarity) / np.array([np.abs(similarity).sum(axis=1)])"
   ]
  },
  {
   "cell_type": "code",
   "execution_count": 24,
   "metadata": {},
   "outputs": [],
   "source": [
    "from sklearn.metrics import mean_squared_error\n",
    "\n",
    "def get_mse(pred, actual):\n",
    "    # Ignore nonzero terms.\n",
    "    pred = pred[actual.nonzero()].flatten()\n",
    "    actual = actual[actual.nonzero()].flatten()\n",
    "    return mean_squared_error(pred, actual)"
   ]
  },
  {
   "cell_type": "code",
   "execution_count": 25,
   "metadata": {},
   "outputs": [
    {
     "name": "stdout",
     "output_type": "stream",
     "text": [
      "User-based CF MSE: 8.419378273432036\n",
      "Item-based CF MSE: 11.529863941558713\n"
     ]
    }
   ],
   "source": [
    "item_prediction = predict(train, item_similarity, kind='item')\n",
    "user_prediction = predict(train, user_similarity, kind='user')\n",
    "\n",
    "print('User-based CF MSE: ' + str(get_mse(user_prediction, test)))\n",
    "print('Item-based CF MSE: ' + str(get_mse(item_prediction, test)))"
   ]
  },
  {
   "cell_type": "markdown",
   "metadata": {},
   "source": [
    "### 4.5 Top-K Collaborative Filtering\n",
    "\n",
    "以 user-based为例： 只考虑与用户u最相似的TopK个用户之间的评分情况"
   ]
  },
  {
   "cell_type": "code",
   "execution_count": 26,
   "metadata": {},
   "outputs": [],
   "source": [
    "def predict_topk(ratings, similarity, kind='user', k=40):\n",
    "    pred = np.zeros(ratings.shape)\n",
    "    if kind == 'user':\n",
    "        for i in range(ratings.shape[0]):\n",
    "            top_k_users = [np.argsort(similarity[:,i])[:-k-1:-1]]\n",
    "            for j in range(ratings.shape[1]):\n",
    "                pred[i, j] = similarity[i, :][top_k_users].dot(ratings[:, j][top_k_users]) \n",
    "                pred[i, j] /= np.sum(np.abs(similarity[i, :][top_k_users]))\n",
    "    if kind == 'item':\n",
    "        for j in range(ratings.shape[1]):\n",
    "            top_k_items = [np.argsort(similarity[:,j])[:-k-1:-1]]\n",
    "            for i in range(ratings.shape[0]):\n",
    "                pred[i, j] = similarity[j, :][top_k_items].dot(ratings[i, :][top_k_items].T) \n",
    "                pred[i, j] /= np.sum(np.abs(similarity[j, :][top_k_items]))        \n",
    "    \n",
    "    return pred"
   ]
  },
  {
   "cell_type": "code",
   "execution_count": 27,
   "metadata": {},
   "outputs": [
    {
     "name": "stdout",
     "output_type": "stream",
     "text": [
      "Top-k User-based CF MSE: 6.477846899873409\n",
      "Top-k Item-based CF MSE: 7.701178358309934\n"
     ]
    }
   ],
   "source": [
    "pred = predict_topk(train, user_similarity, kind='user', k=40)\n",
    "print('Top-k User-based CF MSE: ' + str(get_mse(pred, test)))\n",
    "\n",
    "pred = predict_topk(train, item_similarity, kind='item', k=40)\n",
    "print('Top-k Item-based CF MSE: ' + str(get_mse(pred, test)))"
   ]
  },
  {
   "cell_type": "markdown",
   "metadata": {},
   "source": [
    "使用不同分的K值进行评价"
   ]
  },
  {
   "cell_type": "code",
   "execution_count": 28,
   "metadata": {},
   "outputs": [],
   "source": [
    "k_array = [5, 15, 30, 50, 100, 200]\n",
    "user_train_mse = []\n",
    "user_test_mse = []\n",
    "item_test_mse = []\n",
    "item_train_mse = []\n",
    "\n",
    "for k in k_array:\n",
    "    user_pred = predict_topk(train, user_similarity, kind='user', k=k)\n",
    "    item_pred = predict_topk(train, item_similarity, kind='item', k=k)\n",
    "    \n",
    "    user_train_mse += [get_mse(user_pred, train)]\n",
    "    user_test_mse += [get_mse(user_pred, test)]\n",
    "    \n",
    "    item_train_mse += [get_mse(item_pred, train)]\n",
    "    item_test_mse += [get_mse(item_pred, test)]  "
   ]
  },
  {
   "cell_type": "code",
   "execution_count": 29,
   "metadata": {},
   "outputs": [
    {
     "data": {
      "image/png": "[encoded data removed]",
      "text/plain": [
       "<matplotlib.figure.Figure at 0x7fbb14d62e48>"
      ]
     },
     "metadata": {},
     "output_type": "display_data"
    }
   ],
   "source": [
    "plt.figure(figsize=(8, 8))\n",
    "plt.plot(k_array, user_train_mse, c=pal[0], label='User-based train', alpha=0.5, linewidth=5)\n",
    "plt.plot(k_array, user_test_mse, c=pal[0], label='User-based test', linewidth=5)\n",
    "plt.plot(k_array, item_train_mse, c=pal[1], label='Item-based train', alpha=0.5, linewidth=5)\n",
    "plt.plot(k_array, item_test_mse, c=pal[1], label='Item-based test', linewidth=5)\n",
    "plt.legend(loc='best', fontsize=20)\n",
    "plt.xticks(fontsize=16);\n",
    "plt.yticks(fontsize=16);\n",
    "plt.xlabel('k', fontsize=30);\n",
    "plt.ylabel('MSE', fontsize=30);"
   ]
  },
  {
   "cell_type": "markdown",
   "metadata": {},
   "source": [
    "### 4.6 Bias-subtracted Collaborative Filtering\n",
    "\n",
    "针对问题的修正，对所有用户减掉他们的均值，可以让评分是以原点为中心的\n",
    "\n",
    "![](../picture/4.png)"
   ]
  },
  {
   "cell_type": "code",
   "execution_count": 30,
   "metadata": {},
   "outputs": [],
   "source": [
    "def predict_nobias(ratings, similarity, kind='user'):\n",
    "    if kind == 'user':\n",
    "        user_bias = ratings.mean(axis=1)\n",
    "        ratings = (ratings - user_bias[:, np.newaxis]).copy()\n",
    "        pred = similarity.dot(ratings) / np.array([np.abs(similarity).sum(axis=1)]).T\n",
    "        pred += user_bias[:, np.newaxis]\n",
    "    elif kind == 'item':\n",
    "        item_bias = ratings.mean(axis=0)\n",
    "        ratings = (ratings - item_bias[np.newaxis, :]).copy()\n",
    "        pred = ratings.dot(similarity) / np.array([np.abs(similarity).sum(axis=1)])\n",
    "        pred += item_bias[np.newaxis, :]\n",
    "        \n",
    "    return pred"
   ]
  },
  {
   "cell_type": "code",
   "execution_count": 31,
   "metadata": {},
   "outputs": [
    {
     "name": "stdout",
     "output_type": "stream",
     "text": [
      "Bias-subtracted User-based CF MSE: 8.694025977636713\n",
      "Bias-subtracted Item-based CF MSE: 9.708062309579937\n"
     ]
    }
   ],
   "source": [
    "user_pred = predict_nobias(train, user_similarity, kind='user')\n",
    "print('Bias-subtracted User-based CF MSE: ' + str(get_mse(user_pred, test)))\n",
    "\n",
    "item_pred = predict_nobias(train, item_similarity, kind='item')\n",
    "print('Bias-subtracted Item-based CF MSE: ' + str(get_mse(item_pred, test)))"
   ]
  },
  {
   "cell_type": "markdown",
   "metadata": {},
   "source": [
    "### 4.7 All together now"
   ]
  },
  {
   "cell_type": "code",
   "execution_count": 32,
   "metadata": {},
   "outputs": [],
   "source": [
    "def predict_topk_nobias(ratings, similarity, kind='user', k=40):\n",
    "    pred = np.zeros(ratings.shape)\n",
    "    if kind == 'user':\n",
    "        user_bias = ratings.mean(axis=1)\n",
    "        ratings = (ratings - user_bias[:, np.newaxis]).copy()\n",
    "        for i in range(ratings.shape[0]):\n",
    "            top_k_users = [np.argsort(similarity[:,i])[:-k-1:-1]]\n",
    "            for j in range(ratings.shape[1]):\n",
    "                pred[i, j] = similarity[i, :][top_k_users].dot(ratings[:, j][top_k_users]) \n",
    "                pred[i, j] /= np.sum(np.abs(similarity[i, :][top_k_users]))\n",
    "        pred += user_bias[:, np.newaxis]\n",
    "    if kind == 'item':\n",
    "        item_bias = ratings.mean(axis=0)\n",
    "        ratings = (ratings - item_bias[np.newaxis, :]).copy()\n",
    "        for j in range(ratings.shape[1]):\n",
    "            top_k_items = [np.argsort(similarity[:,j])[:-k-1:-1]]\n",
    "            for i in range(ratings.shape[0]):\n",
    "                pred[i, j] = similarity[j, :][top_k_items].dot(ratings[i, :][top_k_items].T) \n",
    "                pred[i, j] /= np.sum(np.abs(similarity[j, :][top_k_items])) \n",
    "        pred += item_bias[np.newaxis, :]\n",
    "        \n",
    "    return pred"
   ]
  },
  {
   "cell_type": "code",
   "execution_count": 33,
   "metadata": {},
   "outputs": [],
   "source": [
    "k_array = [5, 15, 30, 50, 100, 200]\n",
    "user_train_mse = []\n",
    "user_test_mse = []\n",
    "item_test_mse = []\n",
    "item_train_mse = []\n",
    "\n",
    "for k in k_array:\n",
    "    user_pred = predict_topk_nobias(train, user_similarity, kind='user', k=k)\n",
    "    item_pred = predict_topk_nobias(train, item_similarity, kind='item', k=k)\n",
    "    \n",
    "    user_train_mse += [get_mse(user_pred, train)]\n",
    "    user_test_mse += [get_mse(user_pred, test)]\n",
    "    \n",
    "    item_train_mse += [get_mse(item_pred, train)]\n",
    "    item_test_mse += [get_mse(item_pred, test)]  "
   ]
  },
  {
   "cell_type": "code",
   "execution_count": 34,
   "metadata": {},
   "outputs": [
    {
     "data": {
      "image/png": "[encoded data removed]",
      "text/plain": [
       "<matplotlib.figure.Figure at 0x7fbb0b89a6d8>"
      ]
     },
     "metadata": {},
     "output_type": "display_data"
    }
   ],
   "source": [
    "pal = sns.color_palette(\"Set2\", 2)\n",
    "\n",
    "plt.figure(figsize=(8, 8))\n",
    "plt.plot(k_array, user_train_mse, c=pal[0], label='User-based train', alpha=0.5, linewidth=5)\n",
    "plt.plot(k_array, user_test_mse, c=pal[0], label='User-based test', linewidth=5)\n",
    "plt.plot(k_array, item_train_mse, c=pal[1], label='Item-based train', alpha=0.5, linewidth=5)\n",
    "plt.plot(k_array, item_test_mse, c=pal[1], label='Item-based test', linewidth=5)\n",
    "plt.legend(loc='best', fontsize=20)\n",
    "plt.xticks(fontsize=16);\n",
    "plt.yticks(fontsize=16);\n",
    "plt.xlabel('k', fontsize=30);\n",
    "plt.ylabel('MSE', fontsize=30);"
   ]
  },
  {
   "cell_type": "code",
   "execution_count": null,
   "metadata": {},
   "outputs": [],
   "source": []
  }
 ],
 "metadata": {
  "kernelspec": {
   "display_name": "Python 3",
   "language": "python",
   "name": "python3"
  },
  "language_info": {
   "codemirror_mode": {
    "name": "ipython",
    "version": 3
   },
   "file_extension": ".py",
   "mimetype": "text/x-python",
   "name": "python",
   "nbconvert_exporter": "python",
   "pygments_lexer": "ipython3",
   "version": "3.6.4"
  }
 },
 "nbformat": 4,
 "nbformat_minor": 2
}
